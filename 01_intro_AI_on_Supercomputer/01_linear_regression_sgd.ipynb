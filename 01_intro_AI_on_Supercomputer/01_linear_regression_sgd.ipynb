{
  "cells": [
    {
      "cell_type": "markdown",
      "metadata": {
        "id": "N9VK290wO8rA"
      },
      "source": [
        "# Artificial intelligence in a nutshell\n",
        "\n",
        "In this notebook, we will talk about\n",
        "* What is AI training?\n",
        "* How does large language model work?\n",
        "* A simple AI model: linear regression\n",
        "\n",
        "**How to run this notebook on Polaris**\n",
        "* Go to https://jupyter.alcf.anl.gov, and click \"Login Polaris\"\n",
        "* After login, select ```ALCFAITP``` project and ```ALCFAITP``` queue during the lecture (use ```debug``` queue outside of the lecture)\n",
        "* Load the notebook and select \"datascience/conda-2023-01-10\" python kernel\n",
        "\n",
        "<p float=\"center\">\n",
        "  <img src=\"https://github.com/pnookala/ai-science-training-series/blob/main/01_intro_AI_on_Supercomputer/figures/jupyter1.png?raw=1\" width=\"600\" />\n",
        "  <img src=\"https://github.com/pnookala/ai-science-training-series/blob/main/01_intro_AI_on_Supercomputer/figures/jupyter2.png?raw=1\" width=\"600\" />\n",
        "</p>\n",
        "\n",
        "**How to run this notebook on Google Colab**\n",
        "\n",
        "* Go to https://colab.research.google.com/, sign in or sign up\n",
        "* \"File\"-> \"open notebook\"\n",
        "* choose ```01_intro_AI_on_Supercomputer/01_linear_regression_sgd.ipynb``` from the list\n",
        "![Google Colab](https://github.com/pnookala/ai-science-training-series/blob/main/01_intro_AI_on_Supercomputer/figures/colab.png?raw=1)\n",
        "\n",
        "## What is AI training?\n",
        "**Two ways of learning English**\n",
        "* through learning rules;\n",
        "* through hearing a lot of speakings\n",
        "<p float=\"center\">\n",
        "  <img src=\"https://github.com/pnookala/ai-science-training-series/blob/main/01_intro_AI_on_Supercomputer/figures/data_driven.png?raw=1\" width=\"1000\" />\n",
        "</p>\n",
        "\n",
        "I learned English in my middle school, and memorized a lot of grammar rules in my mind. Every time when I speak, I try to follow the grammar rules as much as I can. But I always break the rules.\n",
        "\n",
        "However, my daugher learned English differently. She learns speaking by hearing a lot of speaking from TV, teachers, classmates, and her older brother. The fact is that, she seldomly breaks grammar rules. This way of learning by observing patterns is very powerful! This is the essence of AI or data driven science.\n",
        "\n",
        "## How does large language model work?\n",
        "\n",
        "Large Language Models, like GPT, function by pre-training on extensive datasets to learn language patterns, utilizing transformer architecture for contextual understanding, and can be fine-tuned for specific tasks, enabling them to generate coherent and contextually relevant text based on provided inputs.\n",
        "\n",
        "<p float=\"center\">\n",
        "  <img src=\"https://github.com/pnookala/ai-science-training-series/blob/main/01_intro_AI_on_Supercomputer/figures/llm2.png?raw=1\" width=\"600\" />\n",
        "  <img src=\"https://github.com/pnookala/ai-science-training-series/blob/main/01_intro_AI_on_Supercomputer/figures/chatgpt_response.png?raw=1\" width=\"160\" />\n",
        "</p>\n",
        "\n",
        "**More complicated example**\n",
        "\n",
        "<p float=\"center\">\n",
        "  <img src=\"https://github.com/pnookala/ai-science-training-series/blob/main/01_intro_AI_on_Supercomputer/figures/chatgpt_poem.png?raw=1\" width=\"400\" />\n",
        "  <img src=\"https://github.com/pnookala/ai-science-training-series/blob/main/01_intro_AI_on_Supercomputer/figures/martin.png?raw=1\" width=\"450\" />\n",
        "</p>\n",
        "\n",
        "You can do this on https://chat.openai.com\n",
        "\n",
        "## Simplest AI model example: linear regression\n",
        "This example is adopted from Bethany Lusch, ALCF.\n",
        "\n",
        "Linear regression is the simplest example ``learning\" from existing data for future prediction.\n",
        "<p float=\"center\">\n",
        "  <img src=\"https://github.com/pnookala/ai-science-training-series/blob/main/01_intro_AI_on_Supercomputer/figures/excel_linear_regression.jpg?raw=1\" width=\"400\" />\n",
        "</p>\n",
        "\n",
        "We're going to review the math involved in this process to help understand how training an AI works.\n",
        "\n",
        "First we will load some tools that others wrote and we can use to help us work.\n",
        "* [Pandas](https://pandas.pydata.org/docs/): a toolkit for working with row vs. column data, like excel sheets, and CSV (Comma Seperated Values) files.\n",
        "* [Numpy](https://numpy.org/doc/): a toolkit for managing arrays, vectors, matrices, etc, doing math with them, slicing them up, and many other handy things.\n",
        "* [Matplotlib](https://matplotlib.org/stable/index.html): a toolkit for plotting data"
      ]
    },
    {
      "cell_type": "code",
      "execution_count": null,
      "metadata": {
        "id": "g041QZ1JO8rC"
      },
      "outputs": [],
      "source": [
        "import pandas as pd\n",
        "import numpy as np\n",
        "import matplotlib.pyplot as plt\n",
        "import IPython.display as ipydis\n",
        "import time"
      ]
    },
    {
      "cell_type": "markdown",
      "metadata": {
        "id": "GTRAZnaHO8rC"
      },
      "source": [
        "### Dataset\n",
        "We used a realestate dataset from Kaggle to produce this reduced dataset. This dataset contains the _sale price_ and _above ground square feet_ of many houses. We can use this data for our linear regression.\n",
        "\n",
        "We use Pandas to read the data file which is stored as Comma Separated Values (CSV). and print the column labels. CSV files are similar to excel sheets."
      ]
    },
    {
      "cell_type": "code",
      "execution_count": null,
      "metadata": {
        "id": "K2Hbn70oO8rC",
        "outputId": "0459a874-211f-4154-a870-f4e3b16623ac",
        "colab": {
          "base_uri": "https://localhost:8080/"
        }
      },
      "outputs": [
        {
          "output_type": "stream",
          "name": "stdout",
          "text": [
            "--2024-11-26 11:30:26--  https://raw.githubusercontent.com/argonne-lcf/ai-science-training-series/main/01_intro_AI_on_Supercomputer/slimmed_realestate_data.csv\n",
            "Resolving raw.githubusercontent.com (raw.githubusercontent.com)... 185.199.108.133, 185.199.109.133, 185.199.110.133, ...\n",
            "Connecting to raw.githubusercontent.com (raw.githubusercontent.com)|185.199.108.133|:443... connected.\n",
            "HTTP request sent, awaiting response... 200 OK\n",
            "Length: 8804 (8.6K) [text/plain]\n",
            "Saving to: ‘slimmed_realestate_data.csv’\n",
            "\n",
            "slimmed_realestate_ 100%[===================>]   8.60K  --.-KB/s    in 0.001s  \n",
            "\n",
            "2024-11-26 11:30:26 (16.4 MB/s) - ‘slimmed_realestate_data.csv’ saved [8804/8804]\n",
            "\n",
            "Index(['Unnamed: 0', 'SalePrice', 'GrLivArea'], dtype='object')\n"
          ]
        }
      ],
      "source": [
        "! [ -e ./slimmed_realestate_data.csv ] || wget https://raw.githubusercontent.com/argonne-lcf/ai-science-training-series/main/01_intro_AI_on_Supercomputer/slimmed_realestate_data.csv\n",
        "data = pd.read_csv('slimmed_realestate_data.csv')\n",
        "print(data.columns)"
      ]
    },
    {
      "cell_type": "markdown",
      "metadata": {
        "id": "nJcdaYwfO8rC"
      },
      "source": [
        "Now pandas provides some helpful tools for us to inspect our data. It provides a `plot()` function that, behind the scenes, is calling into the _Matplotlib_ library and calling the function [matplotlib.pyplot.plot()](https://matplotlib.org/stable/api/_as_gen/matplotlib.pyplot.plot.html). In this case, we simply tell it the names of the columns we want as our _x_ and _y_ values and the `style` (`'.'` tells `matplotlib` to use a small dot to represent each data point)."
      ]
    },
    {
      "cell_type": "code",
      "execution_count": null,
      "metadata": {
        "id": "c8xY-hBgO8rD",
        "outputId": "9c4e0bc7-5614-44ad-f5cf-067a3af9707c",
        "colab": {
          "base_uri": "https://localhost:8080/",
          "height": 467
        }
      },
      "outputs": [
        {
          "output_type": "execute_result",
          "data": {
            "text/plain": [
              "<Axes: xlabel='GrLivArea'>"
            ]
          },
          "metadata": {},
          "execution_count": 4
        },
        {
          "output_type": "display_data",
          "data": {
            "text/plain": [
              "<Figure size 640x480 with 1 Axes>"
            ],
            "image/png": "[encoded data removed]"
          },
          "metadata": {}
        }
      ],
      "source": [
        "data.plot(x='GrLivArea', y='SalePrice',style='.')"
      ]
    },
    {
      "cell_type": "markdown",
      "metadata": {
        "id": "AXCTOLwoO8rD"
      },
      "source": [
        "### Theory of linear regression\n",
        "\n",
        "The goal of learning regression is to find a line that is closest to all the points.\n",
        "\n",
        "The slope and intercept of such a line $y = m x + b$ can be found as:\n",
        "\n",
        "$$m = { n (\\Sigma xy) - (\\Sigma x) (\\Sigma y) \\over n (\\Sigma x^2) - (\\Sigma x)^2 } $$\n",
        "\n",
        "$$b = { (\\Sigma y) (\\Sigma x^2) - (\\Sigma x) (\\Sigma xy) \\over n (\\Sigma x^2) - (\\Sigma x)^2 } $$\n",
        "\n",
        "Details derivation of this can be found [here](https://en.wikipedia.org/wiki/Simple_linear_regression).\n",
        "\n",
        "We'll break this calculation into a few steps to help make it easier.\n",
        "\n",
        "First lets define $x$ and $y$. $x$ will be our _above ground square footage_ and $y$ will be _sale price_. In our equations we have a few different values we need, such as $n$ which is just the number of points we have:"
      ]
    },
    {
      "cell_type": "code",
      "execution_count": null,
      "metadata": {
        "id": "Ako0jzCIO8rD"
      },
      "outputs": [],
      "source": [
        "n = len(data)"
      ]
    },
    {
      "cell_type": "markdown",
      "metadata": {
        "id": "y7uT33LwO8rD"
      },
      "source": [
        "Then we need our $x$ and $y$ by selecting only the column we care about for each one. Note about data formats: `data` is a Pandas [DataFrame](https://pandas.pydata.org/docs/reference/api/pandas.DataFrame.html#pandas.DataFrame) object which has rows and columns; `data['GrLivArea']` is a Pandas [Series](https://pandas.pydata.org/docs/reference/api/pandas.Series.html) object which only has rows; then we also convert from _Pandas_ data formats (in this case a _Series_) to _Numpy_ data formats using the `to_numpy()` function which is part of the Pandas _Series_ object."
      ]
    },
    {
      "cell_type": "code",
      "execution_count": null,
      "metadata": {
        "id": "SRCOtElyO8rD"
      },
      "outputs": [],
      "source": [
        "x = data['GrLivArea'].to_numpy()\n",
        "y = data['SalePrice'].to_numpy()"
      ]
    },
    {
      "cell_type": "markdown",
      "metadata": {
        "id": "pG9AbqMHO8rD"
      },
      "source": [
        "Now we will calculate $\\Sigma xy$, $\\Sigma x$, $\\Sigma y$, and $\\Sigma x^2$:"
      ]
    },
    {
      "cell_type": "code",
      "execution_count": null,
      "metadata": {
        "id": "IxT0kNzJO8rD"
      },
      "outputs": [],
      "source": [
        "sum_xy = np.sum(x*y)\n",
        "sum_x = np.sum(x)\n",
        "sum_y = np.sum(y)\n",
        "sum_x2 = np.sum(x*x)"
      ]
    },
    {
      "cell_type": "markdown",
      "metadata": {
        "id": "6qpEFBVuO8rD"
      },
      "source": [
        "The denominator in the equation for $m$ and $b$ are the same so we can calculate that once:"
      ]
    },
    {
      "cell_type": "code",
      "execution_count": null,
      "metadata": {
        "id": "wsDk0Ec9O8rD"
      },
      "outputs": [],
      "source": [
        "denominator = n * sum_x2 - sum_x * sum_x"
      ]
    },
    {
      "cell_type": "markdown",
      "metadata": {
        "id": "mlMbovxKO8rD"
      },
      "source": [
        "Then we can calculate our fit values:"
      ]
    },
    {
      "cell_type": "code",
      "execution_count": null,
      "metadata": {
        "id": "qhNHFS8pO8rD",
        "outputId": "f273e2b3-42f5-4254-dfdc-e29c0a4b7836",
        "colab": {
          "base_uri": "https://localhost:8080/"
        }
      },
      "outputs": [
        {
          "output_type": "stream",
          "name": "stdout",
          "text": [
            "y = 87.688145 * x + 34754.077892\n"
          ]
        }
      ],
      "source": [
        "m = (n * sum_xy - sum_x * sum_y) / denominator\n",
        "b = (sum_y * sum_x2 - sum_x * sum_xy) / denominator\n",
        "print('y = %f * x + %f' % (m,b))\n",
        "\n",
        "# saving these for later comparison\n",
        "m_calc = m\n",
        "b_calc = b"
      ]
    },
    {
      "cell_type": "markdown",
      "metadata": {
        "id": "EikEhm46O8rD"
      },
      "source": [
        "Now we can plot the fit results with our data to see how we did.\n",
        "\n",
        "First we define a plotting function because we're going to do this often and we want to reuse our code:"
      ]
    },
    {
      "cell_type": "code",
      "execution_count": null,
      "metadata": {
        "id": "Rs1R-bQrO8rD"
      },
      "outputs": [],
      "source": [
        "def plot_data(x,y,m,b,plt = plt):\n",
        "   # plot our data points with 'bo' = blue circles\n",
        "   plt.plot(x,y,'bo')\n",
        "   # create the line based on our linear fit\n",
        "   # first we need to make x points\n",
        "   # the 'arange' function generates points between two limits (min,max)\n",
        "   linear_x = np.arange(x.min(),x.max())\n",
        "   # now we use our fit parameters to calculate the y points based on our x points\n",
        "   linear_y = linear_x * m + b\n",
        "   # plot the linear points using 'r-' = red line\n",
        "   plt.plot(linear_x,linear_y,'r-',label='fit')"
      ]
    },
    {
      "cell_type": "markdown",
      "metadata": {
        "id": "tbiReGfQO8rD"
      },
      "source": [
        "Now can use this function to plot our results:"
      ]
    },
    {
      "cell_type": "code",
      "execution_count": null,
      "metadata": {
        "id": "gbMxwxAoO8rD",
        "outputId": "9d9c42cb-47f2-4da7-e99d-b80ced6ba960",
        "colab": {
          "base_uri": "https://localhost:8080/"
        }
      },
      "outputs": [
        {
          "output_type": "display_data",
          "data": {
            "text/plain": [
              "<Figure size 640x480 with 1 Axes>"
            ],
            "image/png": "[encoded data removed]"
          },
          "metadata": {}
        }
      ],
      "source": [
        "plot_data(x,y,m,b)"
      ]
    },
    {
      "cell_type": "markdown",
      "metadata": {
        "id": "Aw6V7Jp2O8rD"
      },
      "source": [
        "### Training through Stochastic Gradient Descent (SGD)\n",
        "\n",
        "SGD is a common method in AI for training deep neural networks on large datasets. It is an iterative method for optimizing a loss function that we get to define. We will use this simple linear regression to demonstrate how it works.\n",
        "\n",
        "#### The model\n",
        "\n",
        "In AI, neural networks are often referred to as a _model_ because, once fully trained, they should model (AKA predict) the behavior of our system. In our example, the system is how house prices vary based on house size. We know our system is roughly driven by a linear function:\n",
        "\n",
        "$$ \\hat{y_i}(x_i) = m * x_i + b $$\n",
        "\n",
        "We just need to figure out $m$ and $b$. Let's create a function that calculates our model given $x$, $m$, and $b$.\n"
      ]
    },
    {
      "cell_type": "code",
      "execution_count": null,
      "metadata": {
        "id": "TpH6afkKO8rD"
      },
      "outputs": [],
      "source": [
        "def model(x,m,b):\n",
        "   return m * x + b"
      ]
    },
    {
      "cell_type": "markdown",
      "metadata": {
        "tags": [],
        "id": "8piRMLwRO8rE"
      },
      "source": [
        "\n",
        "#### The Loss Function\n",
        "\n",
        "A _loss function_, or _objective function_, is something we define and is based on what we want to achieve. In the method of SGD, it is our goal to minimize (or make close to zero) the values calculated from the _loss function_. In our example, we ideally want the prediction of our _model_ to be equal to the actual data, though we will settle for \"as close as possible\".\n",
        "\n",
        "So we will select our _loss function_ to be the [Mean Squared Error](https://en.wikipedia.org/wiki/Mean_squared_error) function:\n",
        "\n",
        "$$ L(y_i,\\hat{y_i}) = (y_i - \\hat{y_i}(x_i))^2 $$\n",
        "\n",
        "where $y_i$ is our $i^{th}$ entry in the `data['SalePrice']` vector and $\\hat{y_i}$ is the prediction based on evaluting $m * x_i + b$.\n",
        "\n",
        "This function looks like the figure below when we plot it with $x=y_i - \\hat{y_i}(x_i)$ and we we want to be down near $y_i - \\hat{y_i}(x_i) = 0$ which indicates that our $y_i$ is as close as possible to $\\hat{y_i}$.\n",
        "\n",
        "<p float=\"center\">\n",
        "  <img src=\"https://github.com/pnookala/ai-science-training-series/blob/main/01_intro_AI_on_Supercomputer/figures/loss_func.png?raw=1\" width=\"400\" />\n",
        "</p>\n",
        "\n",
        "Here we crate a function that calculates this for us."
      ]
    },
    {
      "cell_type": "code",
      "execution_count": null,
      "metadata": {
        "id": "THDOLOJ3O8rE"
      },
      "outputs": [],
      "source": [
        "def loss(x,y,m,b):\n",
        "   y_predicted = model(x,m,b)\n",
        "   return np.power( y - y_predicted, 2 )"
      ]
    },
    {
      "cell_type": "markdown",
      "metadata": {
        "id": "mHIDsKgvO8rE"
      },
      "source": [
        "#### Minimizing the Loss Function\n",
        "\n",
        "We want to use the loss function in order to guide how to update $m$ and $b$ to better model our system. In calculus we learn to minimize a function with respect to a variable you calculate the _partial derivative_ with respect to the variable you want to vary.\n",
        "\n",
        "$$ { \\partial L \\over \\partial m } = 0 $$\n",
        "\n",
        "The location of the solution to this is the minimum as shown in the figure above. We can write down the partial derivative of the loss function as:\n",
        "\n",
        "$$ { \\partial L \\over \\partial m } = -2 x_i (y_i - \\hat{y_i}(x_i)) $$\n",
        "$$ { \\partial L \\over \\partial b } = -2 (y_i - \\hat{y_i}(x_i)) $$\n",
        "\n",
        "We can use this to calculate an adjustment to $m$ and $b$ that will reduce the loss function, effectively improving our fitting parameters. This is done using this equation:\n",
        "\n",
        "$$ m' = m - \\eta { \\partial L \\over \\partial m }$$\n",
        "$$ b' = b - \\eta { \\partial L \\over \\partial b }$$\n",
        "\n",
        "Here our original $m$ and $b$ are adjusted by the partial derivative multiplied by some small factor, $\\eta$, called the _learning rate_. This learning rate is very important in our process and must be tuned for every problem.\n",
        "\n",
        "In our example, the selection of the learning rate essentially defines how close we can get to the minimum, AKA the best fit solution. This figure shows what happens when we pick a large learning rate. We first select a starting point in our loss function (typically randomly), then every update from $m$/$b$ to $m'$/$b'$ results in a shift to somewhere else on our loss function (following the red arrows). In this example, our learning rate ($\\eta$) has been selected too large such that we bounce back and forth around the minimum, never reaching it.\n",
        "\n",
        "<p float=\"center\">\n",
        "  <img src=\"https://github.com/pnookala/ai-science-training-series/blob/main/01_intro_AI_on_Supercomputer/figures/parabola_largeLR.png?raw=1\" width=\"400\" />\n",
        "</p>\n",
        "\n",
        "If we select a smaller learning we can see better behavior in the next figure.\n",
        "\n",
        "<p float=\"center\">\n",
        "  <img src=\"https://github.com/pnookala/ai-science-training-series/blob/main/01_intro_AI_on_Supercomputer/figures/parabola_smallLR.png?raw=1\" width=\"400\" />\n",
        "</p>\n",
        "\n",
        "Though, keep in mind, too small a learning rate results is so little progress toward the minimum that you may never reach it!\n",
        "\n",
        "A pit fall of SGD that one must be aware of is when your loss function is complex, with many minima. The next figure shows such a case, in which we select a small learning rate and our starting point happens to be near a local minimum that is not the lowest minimum. As shown, we do reach a minimum, but it isn't the lowest minimum in our loss function. It could be that we randomly select a starting point near the minimum we care about, but we should build methods that are more robust against randomly getting the right answer.\n",
        "\n",
        "<p float=\"center\">\n",
        "  <img src=\"https://github.com/pnookala/ai-science-training-series/blob/main/01_intro_AI_on_Supercomputer/figures/local_min_smallLR.png?raw=1\" width=\"400\" />\n",
        "</p>\n",
        "\n",
        "Then, if we increase our learning rate too much, we bounce around again.\n",
        "\n",
        "<p float=\"center\">\n",
        "  <img src=\"https://github.com/pnookala/ai-science-training-series/blob/main/01_intro_AI_on_Supercomputer/figures/local_min_largeLR.png?raw=1\" width=\"400\" />\n",
        "</p>\n",
        "\n",
        "What we want to do in this situation is start with a large learning rate and slowly reduce its size as we progress. That is shown in this next figure.\n",
        "\n",
        "<p float=\"center\">\n",
        "  <img src=\"https://github.com/pnookala/ai-science-training-series/blob/main/01_intro_AI_on_Supercomputer/figures/local_min_variableLR.png?raw=1\" width=\"400\" />\n",
        "</p>\n",
        "\n",
        "As you can see, this process is not perfect and could still land in a local minimum, but it is important to be aware of these behaviors as you utilize SGD in machine learning.\n",
        "\n",
        "So let's continue, we'll build functions we can use to update our fit parameters, $m$ and $b$."
      ]
    },
    {
      "cell_type": "code",
      "execution_count": null,
      "metadata": {
        "id": "Wr5Du2beO8rE"
      },
      "outputs": [],
      "source": [
        "def updated_m(x,y,m,b,learning_rate):\n",
        "   dL_dm = - 2 * x * (y - model(x,m,b))\n",
        "   dL_dm = np.mean(dL_dm)\n",
        "   return m - learning_rate * dL_dm\n",
        "\n",
        "def updated_b(x,y,m,b,learning_rate):\n",
        "   dL_db = - 2 * (y - model(x,m,b))\n",
        "   dL_db = np.mean(dL_db)\n",
        "   return b - learning_rate * dL_db"
      ]
    },
    {
      "cell_type": "markdown",
      "metadata": {
        "id": "tnDY3756O8rE"
      },
      "source": [
        "# Putting it together\n",
        "\n",
        "We can now randomly select our initial slope and intercept:"
      ]
    },
    {
      "cell_type": "code",
      "execution_count": null,
      "metadata": {
        "id": "9eOvz2J9O8rE",
        "outputId": "cd79af1a-fc69-4559-e369-e7dca12a7bc4",
        "colab": {
          "base_uri": "https://localhost:8080/"
        }
      },
      "outputs": [
        {
          "output_type": "stream",
          "name": "stdout",
          "text": [
            "y_i = 5.00 * x + 1000.00\n"
          ]
        }
      ],
      "source": [
        "m = 5.\n",
        "b = 1000.\n",
        "print('y_i = %.2f * x + %.2f' % (m,b))"
      ]
    },
    {
      "cell_type": "markdown",
      "metadata": {
        "id": "UfYwuN2bO8rE"
      },
      "source": [
        "Then we can calculate our Loss function:"
      ]
    },
    {
      "cell_type": "code",
      "execution_count": null,
      "metadata": {
        "id": "VBVLA9p8O8rE",
        "outputId": "5ebf70d6-d368-4444-a69d-9e3543c06313",
        "colab": {
          "base_uri": "https://localhost:8080/"
        }
      },
      "outputs": [
        {
          "output_type": "stream",
          "name": "stdout",
          "text": [
            "first 10 loss values:  [3.03421561e+10 3.55511025e+10 1.24579082e+10 1.91656336e+10\n",
            " 1.60604929e+10 2.04432804e+10 1.72410030e+10 1.76517796e+10\n",
            " 1.52769600e+10 2.18152900e+10]\n"
          ]
        }
      ],
      "source": [
        "l = loss(x,y,m,b)\n",
        "print('first 10 loss values: ',l[:10])"
      ]
    },
    {
      "cell_type": "code",
      "execution_count": null,
      "metadata": {
        "id": "NcIF2_ZKO8rE",
        "outputId": "37fc56ec-c9f2-4b3b-de89-0fce16356640",
        "colab": {
          "base_uri": "https://localhost:8080/",
          "height": 448
        }
      },
      "outputs": [
        {
          "output_type": "stream",
          "name": "stdout",
          "text": [
            "y_i = 5.47 * x + 1000.00     previously calculated: y_i = 87.69 * x + 34754.08\n"
          ]
        },
        {
          "output_type": "display_data",
          "data": {
            "text/plain": [
              "<Figure size 640x480 with 1 Axes>"
            ],
            "image/png": "[encoded data removed]"
          },
          "metadata": {}
        }
      ],
      "source": [
        "learning_rate = 1e-9\n",
        "m = updated_m(x,y,m,b,learning_rate)\n",
        "b = updated_b(x,y,m,b,learning_rate)\n",
        "print('y_i = %.2f * x + %.2f     previously calculated: y_i = %.2f * x + %.2f' % (m,b,m_calc,b_calc))\n",
        "plot_data(x,y,m,b)"
      ]
    },
    {
      "cell_type": "code",
      "execution_count": null,
      "metadata": {
        "id": "IuXDSVgxO8rE",
        "outputId": "946ec9b3-7bc9-48da-9325-1162618cf2a9",
        "colab": {
          "base_uri": "https://localhost:8080/",
          "height": 452
        }
      },
      "outputs": [
        {
          "output_type": "stream",
          "name": "stdout",
          "text": [
            "[008]  dy_i = 89.46 * x + 31923.23     previously calculated: y_i = 87.69 * x + 34754.08    loss: 1478756943.996361\n"
          ]
        },
        {
          "output_type": "display_data",
          "data": {
            "text/plain": [
              "<Figure size 1440x480 with 2 Axes>"
            ],
            "image/png": "[encoded data removed]"
          },
          "metadata": {}
        }
      ],
      "source": [
        "# set our initial slope and intercept\n",
        "m = 5.\n",
        "b = 1000.\n",
        "# batch_size = 60\n",
        "# set a learning rate for each parameter\n",
        "learning_rate_m = 1e-7\n",
        "learning_rate_b = 1e-1\n",
        "# use these to plot our progress over time\n",
        "loss_history = []\n",
        "# convert panda data to numpy arrays, one for the \"Ground Living Area\" and one for \"Sale Price\"\n",
        "data_x = data['GrLivArea'].to_numpy()\n",
        "data_y = data['SalePrice'].to_numpy()\n",
        "# we run our loop N times\n",
        "loop_N = 30\n",
        "for i in range(loop_N):\n",
        "   # update our slope and intercept based on the current values\n",
        "   m = updated_m(data_x,data_y,m,b,learning_rate_m)\n",
        "   b = updated_b(data_x,data_y,m,b,learning_rate_b)\n",
        "\n",
        "   # calculate the loss value\n",
        "   loss_value = np.mean(loss(data_x,data_y,m,b))\n",
        "\n",
        "   # keep a history of our loss values\n",
        "   loss_history.append(loss_value)\n",
        "\n",
        "   # print our progress\n",
        "   print('[%03d]  dy_i = %.2f * x + %.2f     previously calculated: y_i = %.2f * x + %.2f    loss: %f' % (i,m,b,m_calc,b_calc,loss_value))\n",
        "\n",
        "   # close/delete previous plots\n",
        "   plt.close('all')\n",
        "\n",
        "   # create a 1 by 2 plot grid\n",
        "   fig,ax = plt.subplots(1,2,figsize=(18,6),dpi=80)\n",
        "   # lot our usual output\n",
        "   plot_data(data_x,data_y,m,b,ax[0])\n",
        "\n",
        "   # here we also plot the calculated linear fit for comparison\n",
        "   line_x = np.arange(data_x.min(),data_x.max())\n",
        "   line_y = line_x * m_calc + b_calc\n",
        "   ax[0].plot(line_x,line_y,'b-',label='calculated')\n",
        "   # add a legend to the plot and x/y labels\n",
        "   ax[0].legend()\n",
        "   ax[0].set_xlabel('square footage')\n",
        "   ax[0].set_ylabel('sale price')\n",
        "\n",
        "   # plot the loss\n",
        "   loss_x = np.arange(0,len(loss_history))\n",
        "   loss_y = np.asarray(loss_history)\n",
        "   ax[1].plot(loss_x,loss_y, 'o-')\n",
        "   ax[1].set_yscale('log')\n",
        "   ax[1].set_xlabel('loop step')\n",
        "   ax[1].set_ylabel('loss')\n",
        "   plt.show()\n",
        "   # gives us time to see the plot\n",
        "   time.sleep(2.5)\n",
        "   # clears the plot when the next plot is ready to show.\n",
        "   ipydis.clear_output(wait=True)\n",
        "\n"
      ]
    },
    {
      "cell_type": "markdown",
      "metadata": {
        "id": "Tf5obLqzO8rE"
      },
      "source": [
        "# Homework\n",
        "## Mini Batch Training\n",
        "In AI, datasets are often very large and cannot be processed all at once as is done in the loop above. The data is instead randomly sampled in smaller _batches_ where each _batch_ contains `batch_size` inputs. How can you change the loop above to sample the dataset in smaller batches? Hint: Our `data` variable is a Pandas `DataFrame` object, search for \"how to sample a DataFrame\".\n",
        "\n",
        "Instead of using the entire dataset like\n",
        "```python\n",
        "data_x = data['GrLivArea'].to_numpy()\n",
        "data_y = data['SalePrice'].to_numpy()\n",
        "```\n",
        "Use\n",
        "```python\n",
        "data_batch = data.sample(batch_size)\n",
        "data_x = data_batch['GrLivArea'].to_numpy()\n",
        "data_y = data_batch['SalePrice'].to_numpy()\n",
        "```\n",
        "\n",
        "You also have to adjust the loop_N accordingly to make sure that it loop over the entire datasets the same number of times.\n",
        "```python\n",
        "loop_N = 30*len(data)//batch_size\n",
        "```\n",
        "\n",
        "Please plot your learning curve for different batch size, such as 32, 64, 128, 256, 512.\n",
        "\n",
        "## Learning rate issue (Bonus)\n",
        "As described above, if the learning rate is too large, it will affect the convergence. Do your training with (batch_size = 64, learning_rate_m = 1e-7, learning_rate_b = 1e-1). Then linearly increase the batch size and learning rate until you see the training does not converge.\n",
        "```\n",
        "(64, 1e-7, 1e-1)*1\n",
        "(64, 1e-7, 1e-1)*2\n",
        "(64, 1e-7, 1e-1)*4\n",
        "(64, 1e-7, 1e-1)*8\n",
        "...\n",
        "```\n",
        "\n",
        "**How to submit your homework**\n",
        "* Fork the github repo to your personal github\n",
        "* Make change to the 01_linear_regression_sgd.ipynb, and then push to your personal github\n",
        "* Provide the link of 01_linear_regression_sgd in the personal github.\n",
        "\n",
        "Follow the below instruction on how to do this:\n",
        "https://github.com/argonne-lcf/ai-science-training-series/blob/main/00_introToAlcf/03_githubHomework.md"
      ]
    },
    {
      "cell_type": "code",
      "source": [
        "########### My Homework Code ###############\n",
        "\n",
        "import numpy as np\n",
        "import matplotlib.pyplot as plt\n",
        "import time\n",
        "\n",
        "def mini_batch_training(data_x, data_y, batch_size, learning_rate_m, learning_rate_b, loop_N):\n",
        "    \"\"\"\n",
        "    Perform mini-batch gradient descent with adjustable batch size and learning rates.\n",
        "\n",
        "    Parameters:\n",
        "        data_x (numpy.ndarray): Input feature array.\n",
        "        data_y (numpy.ndarray): Target array.\n",
        "        batch_size (int): Size of the mini-batches.\n",
        "        learning_rate_m (float): Learning rate for slope (m).\n",
        "        learning_rate_b (float): Learning rate for intercept (b).\n",
        "        loop_N (int): Number of training iterations.\n",
        "    \"\"\"\n",
        "    # Initialize parameters\n",
        "    m = 5.0\n",
        "    b = 1000.0\n",
        "\n",
        "    # Loss history for plotting\n",
        "    loss_history = []\n",
        "\n",
        "    # Total number of samples\n",
        "    num_samples = len(data_x)\n",
        "\n",
        "    for i in range(loop_N):\n",
        "        # Shuffle the data at the start of each iteration\n",
        "        indices = np.random.permutation(num_samples)\n",
        "        shuffled_x = data_x[indices]\n",
        "        shuffled_y = data_y[indices]\n",
        "\n",
        "        # Process data in mini-batches\n",
        "        for batch_start in range(0, num_samples, batch_size):\n",
        "            batch_end = min(batch_start + batch_size, num_samples)  # Ensure no out-of-bound error\n",
        "            batch_x = shuffled_x[batch_start:batch_end]\n",
        "            batch_y = shuffled_y[batch_start:batch_end]\n",
        "\n",
        "            # Update parameters using the batch\n",
        "            m = updated_m(batch_x, batch_y, m, b, learning_rate_m)\n",
        "            b = updated_b(batch_x, batch_y, m, b, learning_rate_b)\n",
        "\n",
        "        # Calculate the loss value over the entire dataset\n",
        "        loss_value = np.mean(loss(data_x, data_y, m, b))\n",
        "        loss_history.append(loss_value)\n",
        "\n",
        "        # Print progress\n",
        "        print(f'[{i:03d}] dy_i = {m:.2f} * x + {b:.2f}    loss: {loss_value:.6f}')\n",
        "\n",
        "        # Plotting\n",
        "        plt.close('all')\n",
        "        fig, ax = plt.subplots(1, 2, figsize=(18, 6), dpi=80)\n",
        "\n",
        "        # Plot data and current line fit\n",
        "        ax[0].scatter(data_x, data_y, label=\"Data\", alpha=0.6)\n",
        "        line_x = np.linspace(data_x.min(), data_x.max(), 100)\n",
        "        line_y = line_x * m + b\n",
        "        ax[0].plot(line_x, line_y, 'r-', label=f'Fit: y = {m:.2f} * x + {b:.2f}')\n",
        "        ax[0].set_title('Data and Linear Fit')\n",
        "        ax[0].set_xlabel('Square footage')\n",
        "        ax[0].set_ylabel('Sale price')\n",
        "        ax[0].legend()\n",
        "\n",
        "        # Plot the loss\n",
        "        ax[1].plot(range(len(loss_history)), loss_history, 'o-', label='Loss')\n",
        "        ax[1].set_yscale('log')\n",
        "        ax[1].set_title('Loss Over Iterations')\n",
        "        ax[1].set_xlabel('Loop step')\n",
        "        ax[1].set_ylabel('Loss')\n",
        "        ax[1].legend()\n",
        "\n",
        "        plt.tight_layout()\n",
        "        plt.show()\n",
        "\n",
        "        # Pause for visualization\n",
        "        time.sleep(1)\n",
        "        ipydis.clear_output(wait=True)\n",
        "\n",
        "    return m, b, loss_history\n",
        "\n",
        "# Example usage: Loop through different batch sizes and learning rates\n",
        "batch_sizes = [30, 60, 120]\n",
        "learning_rates_m = [1e-6, 1e-7]\n",
        "learning_rates_b = [1e-2, 1e-1]\n",
        "loop_N = 30\n",
        "\n",
        "data_x = data['GrLivArea'].to_numpy()\n",
        "data_y = data['SalePrice'].to_numpy()\n",
        "\n",
        "for batch_size in batch_sizes:\n",
        "    for lr_m in learning_rates_m:\n",
        "        for lr_b in learning_rates_b:\n",
        "            print(f\"Training with batch_size={batch_size}, learning_rate_m={lr_m}, learning_rate_b={lr_b}\")\n",
        "            m, b, loss_history = mini_batch_training(data_x, data_y, batch_size, lr_m, lr_b, loop_N)\n",
        "            print(f\"Final model: y = {m:.2f} * x + {b:.2f}\")"
      ],
      "metadata": {
        "id": "5pIMqghpPAof"
      },
      "execution_count": null,
      "outputs": []
    },
    {
      "cell_type": "markdown",
      "metadata": {
        "id": "dqc3mRnRO8rE"
      },
      "source": [
        "# Homework answer\n",
        "\n",
        "Let us define a train function which allow us to try different hyperparameter setups."
      ]
    },
    {
      "cell_type": "code",
      "execution_count": null,
      "metadata": {
        "id": "JFEZXaMvO8rE"
      },
      "outputs": [],
      "source": [
        "x = data['GrLivArea'].to_numpy()\n",
        "y = data['SalePrice'].to_numpy()\n",
        "\n",
        "def train(batch_size, epochs=30, learning_rate_m = 1e-7, learning_rate_b = 1e-1):\n",
        "    loss_history = []\n",
        "    num_batches = len(data)//batch_size\n",
        "    loop_N = epochs*num_batches\n",
        "    m = 5.\n",
        "    b = 1000.\n",
        "    for i in range(loop_N):\n",
        "        data_batch = data.sample(batch_size)\n",
        "        data_x = data_batch['GrLivArea'].to_numpy()\n",
        "        data_y = data_batch['SalePrice'].to_numpy()\n",
        "        # update our slope and intercept based on the current values\n",
        "        m = updated_m(data_x,data_y,m,b,learning_rate_m)\n",
        "        b = updated_b(data_x,data_y,m,b,learning_rate_b)\n",
        "\n",
        "        # calculate the loss value\n",
        "        loss_value = np.mean(loss(data_x,data_y,m,b))\n",
        "\n",
        "        # keep a history of our loss values\n",
        "        loss_history.append(loss_value)\n",
        "    #loss_last_epoch = np.sum(loss_history[-num_batches:]*batch_size)/len(data)\n",
        "    return m, b, np.mean(loss(x,y,m,b))\n"
      ]
    },
    {
      "cell_type": "markdown",
      "metadata": {
        "id": "kuH7-8AMO8rE"
      },
      "source": [
        "## Minibatch training"
      ]
    },
    {
      "cell_type": "code",
      "execution_count": null,
      "metadata": {
        "id": "DKxLcTgQO8rE",
        "outputId": "85f56f05-963b-41e4-fa40-2291024c4651"
      },
      "outputs": [
        {
          "name": "stdout",
          "output_type": "stream",
          "text": [
            "previously calculated: y_i = 87.69 * x + 34754.08    loss: 1504269071.828533\n",
            "=======================================\n",
            "batch size: 64, m=86.6872, b=37479.4684, loss=1479789023.6492\n",
            "batch size: 128, m=89.0525, b=33751.2773, loss=1479135943.5381\n",
            "batch size: 256, m=88.4928, b=34082.7256, loss=1478172522.2247\n",
            "batch size: 512, m=89.1933, b=32665.9375, loss=1478404851.1370\n"
          ]
        }
      ],
      "source": [
        "print('previously calculated: y_i = %.2f * x + %.2f    loss: %f\\n=======================================' % (m_calc,b_calc,loss_value))\n",
        "\n",
        "\n",
        "for bs in 64, 128, 256, 512:\n",
        "    m, b, l = train(bs, epochs=30)\n",
        "    print(f\"batch size: {bs}, m={m:.4f}, b={b:.4f}, loss={l:.4f}\")"
      ]
    },
    {
      "cell_type": "markdown",
      "metadata": {
        "id": "1lmO2bryO8rE"
      },
      "source": [
        "We see that eventually, we all get similar results with the minibatch training. Of course, here, we still keep the same learning rate. A gene"
      ]
    },
    {
      "cell_type": "markdown",
      "metadata": {
        "id": "L0NiAhvbO8rE"
      },
      "source": [
        "## Learning rate"
      ]
    },
    {
      "cell_type": "code",
      "execution_count": null,
      "metadata": {
        "id": "JU4jcnN0O8rE",
        "outputId": "395fccec-65c6-456b-c4df-4a757a719561"
      },
      "outputs": [
        {
          "name": "stdout",
          "output_type": "stream",
          "text": [
            "batch size: 64, m=91.2509, b=31854.0306, loss=1485746610.5624\n",
            "batch size: 128, m=80.6417, b=36734.1681, loss=1554481490.3060\n",
            "batch size: 256, m=93.8261, b=28853.2241, loss=1495644038.5204\n",
            "batch size: 512, m=48427.2742, b=68103516.7542, loss=19173027234859892.0000\n"
          ]
        }
      ],
      "source": [
        "for i in 1, 2, 4, 8:\n",
        "    bs, lrm, lrb = np.array([64, 1e-7, 1e-1])*i\n",
        "    bs = int(bs)\n",
        "    m, b, l = train(int(bs), epochs=30, learning_rate_m = lrm, learning_rate_b = lrb)\n",
        "    print(f\"batch size: {bs}, m={m:.4f}, b={b:.4f}, loss={l:.4f}\")"
      ]
    },
    {
      "cell_type": "markdown",
      "metadata": {
        "id": "E8qeQldkO8rF"
      },
      "source": [
        "We can see that, if we increase the batch size and the learning rate proportionally, at certain point, it does not converge for example for the case batch size = 512. To increase the learning rate proportional to the batch size is a general practice. However, if the learning rate is too large, it will continue to move around without finding a local minimum. One trick, people can do is to start with a smaller learning rate in the first few steps / epochs, and once the optimization becomes stable, increase the learning rate proportional to the batch size."
      ]
    }
  ],
  "metadata": {
    "kernelspec": {
      "display_name": "Python 3 (ipykernel)",
      "language": "python",
      "name": "python3"
    },
    "language_info": {
      "codemirror_mode": {
        "name": "ipython",
        "version": 3
      },
      "file_extension": ".py",
      "mimetype": "text/x-python",
      "name": "python",
      "nbconvert_exporter": "python",
      "pygments_lexer": "ipython3",
      "version": "3.11.7"
    },
    "vscode": {
      "interpreter": {
        "hash": "ca11ad6395cdedf9566fae895615e536994dcaaccdd1d5f900a22af192bb117e"
      }
    },
    "colab": {
      "provenance": []
    }
  },
  "nbformat": 4,
  "nbformat_minor": 0
}