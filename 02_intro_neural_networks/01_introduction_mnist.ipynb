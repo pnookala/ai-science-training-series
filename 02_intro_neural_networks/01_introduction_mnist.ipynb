{
  "cells": [
    {
      "cell_type": "markdown",
      "metadata": {
        "id": "BViqT1LYQV6m"
      },
      "source": [
        "# Introduction to Neural Networks\n",
        "Author: Marieme Ngom, adapting materials from Bethany Lusch, Asad Khan, Prasanna Balaprakash, Taylor Childers, Corey Adams, Kyle Felker, and Tanwi Mallick.\n",
        "\n",
        "This tutorial will serve as a gentle introduction to neural networks and deep learning through a hands-on classification problem using the MNIST dataset.\n",
        "\n",
        "In particular, we will introduce neural networks and how to train and improve their learning capabilities.  We will use the PyTorch Python library.\n",
        "\n",
        "The [MNIST dataset](http://yann.lecun.com/exdb/mnist/) contains thousands of examples of handwritten numbers, with each digit labeled 0-9.\n",
        "<img src=\"https://github.com/pnookala/ai-science-training-series/blob/main/02_intro_neural_networks/images/mnist_task.png?raw=1\"  align=\"left\"/>\n",
        "\n"
      ]
    },
    {
      "cell_type": "code",
      "execution_count": null,
      "metadata": {
        "id": "GO4GmDtBQV6m"
      },
      "outputs": [],
      "source": [
        "%matplotlib inline\n",
        "\n",
        "import torch\n",
        "import torchvision\n",
        "from torch import nn\n",
        "\n",
        "import numpy\n",
        "import matplotlib.pyplot as plt\n",
        "import time"
      ]
    },
    {
      "cell_type": "markdown",
      "metadata": {
        "id": "jJE4IggzQV6n"
      },
      "source": [
        "## The MNIST dataset\n",
        "\n",
        "We will now download the dataset that contains handwritten digits. MNIST is a popular dataset, so we can download it via the PyTorch library. Note:\n",
        "- x is for the inputs (images of handwritten digits) and y is for the labels or outputs (digits 0-9)\n",
        "- We are given \"training\" and \"test\" datasets. Training datasets are used to fit the model. Test datasets are saved until the end, when we are satisfied with our model, to estimate how well our model generalizes to new data.\n",
        "\n",
        "Note that downloading it the first time might take some time.\n",
        "The data is split as follows:\n",
        "- 60,000 training examples, 10,000 test examples\n",
        "- inputs: 1 x 28 x 28 pixels\n",
        "- outputs (labels): one integer per example"
      ]
    },
    {
      "cell_type": "code",
      "execution_count": null,
      "metadata": {
        "colab": {
          "base_uri": "https://localhost:8080/"
        },
        "id": "6QJ9q2eVQV6n",
        "outputId": "3de0e32a-f5c3-4f53-aa00-4a65a6d7b2e3"
      },
      "outputs": [
        {
          "output_type": "stream",
          "name": "stdout",
          "text": [
            "Downloading http://yann.lecun.com/exdb/mnist/train-images-idx3-ubyte.gz\n",
            "Failed to download (trying next):\n",
            "HTTP Error 403: Forbidden\n",
            "\n",
            "Downloading https://ossci-datasets.s3.amazonaws.com/mnist/train-images-idx3-ubyte.gz\n",
            "Downloading https://ossci-datasets.s3.amazonaws.com/mnist/train-images-idx3-ubyte.gz to data/MNIST/raw/train-images-idx3-ubyte.gz\n"
          ]
        },
        {
          "output_type": "stream",
          "name": "stderr",
          "text": [
            "100%|██████████| 9.91M/9.91M [00:00<00:00, 16.3MB/s]\n"
          ]
        },
        {
          "output_type": "stream",
          "name": "stdout",
          "text": [
            "Extracting data/MNIST/raw/train-images-idx3-ubyte.gz to data/MNIST/raw\n",
            "\n",
            "Downloading http://yann.lecun.com/exdb/mnist/train-labels-idx1-ubyte.gz\n",
            "Failed to download (trying next):\n",
            "HTTP Error 403: Forbidden\n",
            "\n",
            "Downloading https://ossci-datasets.s3.amazonaws.com/mnist/train-labels-idx1-ubyte.gz\n",
            "Downloading https://ossci-datasets.s3.amazonaws.com/mnist/train-labels-idx1-ubyte.gz to data/MNIST/raw/train-labels-idx1-ubyte.gz\n"
          ]
        },
        {
          "output_type": "stream",
          "name": "stderr",
          "text": [
            "100%|██████████| 28.9k/28.9k [00:00<00:00, 575kB/s]\n"
          ]
        },
        {
          "output_type": "stream",
          "name": "stdout",
          "text": [
            "Extracting data/MNIST/raw/train-labels-idx1-ubyte.gz to data/MNIST/raw\n",
            "\n",
            "Downloading http://yann.lecun.com/exdb/mnist/t10k-images-idx3-ubyte.gz\n",
            "Failed to download (trying next):\n",
            "HTTP Error 403: Forbidden\n",
            "\n",
            "Downloading https://ossci-datasets.s3.amazonaws.com/mnist/t10k-images-idx3-ubyte.gz\n",
            "Downloading https://ossci-datasets.s3.amazonaws.com/mnist/t10k-images-idx3-ubyte.gz to data/MNIST/raw/t10k-images-idx3-ubyte.gz\n"
          ]
        },
        {
          "output_type": "stream",
          "name": "stderr",
          "text": [
            "100%|██████████| 1.65M/1.65M [00:00<00:00, 4.44MB/s]\n"
          ]
        },
        {
          "output_type": "stream",
          "name": "stdout",
          "text": [
            "Extracting data/MNIST/raw/t10k-images-idx3-ubyte.gz to data/MNIST/raw\n",
            "\n",
            "Downloading http://yann.lecun.com/exdb/mnist/t10k-labels-idx1-ubyte.gz\n",
            "Failed to download (trying next):\n",
            "HTTP Error 403: Forbidden\n",
            "\n",
            "Downloading https://ossci-datasets.s3.amazonaws.com/mnist/t10k-labels-idx1-ubyte.gz\n",
            "Downloading https://ossci-datasets.s3.amazonaws.com/mnist/t10k-labels-idx1-ubyte.gz to data/MNIST/raw/t10k-labels-idx1-ubyte.gz\n"
          ]
        },
        {
          "output_type": "stream",
          "name": "stderr",
          "text": [
            "100%|██████████| 4.54k/4.54k [00:00<00:00, 2.46MB/s]"
          ]
        },
        {
          "output_type": "stream",
          "name": "stdout",
          "text": [
            "Extracting data/MNIST/raw/t10k-labels-idx1-ubyte.gz to data/MNIST/raw\n",
            "\n"
          ]
        },
        {
          "output_type": "stream",
          "name": "stderr",
          "text": [
            "\n"
          ]
        }
      ],
      "source": [
        "training_data = torchvision.datasets.MNIST(\n",
        "    root=\"data\",\n",
        "    train=True,\n",
        "    download=True,\n",
        "    transform=torchvision.transforms.ToTensor()\n",
        ")\n",
        "\n",
        "test_data = torchvision.datasets.MNIST(\n",
        "    root=\"data\",\n",
        "    train=False,\n",
        "    download=True,\n",
        "    transform=torchvision.transforms.ToTensor()\n",
        ")"
      ]
    },
    {
      "cell_type": "code",
      "execution_count": null,
      "metadata": {
        "id": "YnGcTzzNQV6n"
      },
      "outputs": [],
      "source": [
        "train_size = int(0.8 * len(training_data))  # 80% for training\n",
        "val_size = len(training_data) - train_size  # Remaining 20% for validation\n",
        "training_data, validation_data = torch.utils.data.random_split(training_data, [train_size, val_size], generator=torch.Generator().manual_seed(55))"
      ]
    },
    {
      "cell_type": "code",
      "execution_count": null,
      "metadata": {
        "colab": {
          "base_uri": "https://localhost:8080/"
        },
        "id": "ZQbLTY65QV6n",
        "outputId": "1f9a66bc-533f-46c1-c337-ff8fa6a07fea"
      },
      "outputs": [
        {
          "output_type": "stream",
          "name": "stdout",
          "text": [
            "MNIST data loaded: train: 48000  examples, validation:  12000 examples, test: 10000 examples\n",
            "Input shape torch.Size([1, 28, 28])\n"
          ]
        }
      ],
      "source": [
        "print('MNIST data loaded: train:',len(training_data),' examples, validation: ', len(validation_data), 'examples, test:',len(test_data), 'examples')\n",
        "print('Input shape', training_data[0][0].shape)"
      ]
    },
    {
      "cell_type": "markdown",
      "metadata": {
        "id": "8VIocKR8QV6o"
      },
      "source": [
        "Let's take a closer look. Here are the first 10 training digits:"
      ]
    },
    {
      "cell_type": "code",
      "execution_count": null,
      "metadata": {
        "colab": {
          "base_uri": "https://localhost:8080/",
          "height": 125
        },
        "id": "gNDq-ExBQV6o",
        "outputId": "a721063c-7631-4557-d20d-144bb1c669cb"
      },
      "outputs": [
        {
          "output_type": "display_data",
          "data": {
            "text/plain": [
              "<Figure size 1000x100 with 10 Axes>"
            ],
            "image/png": "[encoded data removed]"
          },
          "metadata": {}
        }
      ],
      "source": [
        "pltsize=1\n",
        "plt.figure(figsize=(10*pltsize, pltsize))\n",
        "\n",
        "for i in range(10):\n",
        "    plt.subplot(1,10,i+1)\n",
        "    plt.axis('off')\n",
        "    plt.imshow(numpy.reshape(training_data[i][0], (28, 28)), cmap=\"gray\")\n",
        "    plt.title('Class: '+str(training_data[i][1]))"
      ]
    },
    {
      "cell_type": "markdown",
      "metadata": {
        "id": "0TjZqvoJQV6o"
      },
      "source": [
        "# Generalities:\n",
        "To train our classifier, we need (besides the data):\n",
        "- A model that depend on parameters $\\mathbf{\\theta}$. Here we are going to use neural networks.\n",
        "- A loss function $J(\\mathbf{\\theta})$ to measure the capabilities of the model.\n",
        "- An optimization method."
      ]
    },
    {
      "cell_type": "markdown",
      "metadata": {
        "id": "rkKAcSrcQV6o"
      },
      "source": [
        "# Linear Model\n",
        "Let's begin with a simple linear model: linear regression, like last week.\n",
        "We add one complication: each example is a vector (flattened image), so the \"slope\" multiplication becomes a dot product. If the target output is a vector as well, then the multiplication becomes matrix multiplication.\n",
        "\n",
        "Note, like before, we consider multiple examples at once, adding another dimension to the input.\n",
        "\n",
        "\n",
        " <img src=\"https://github.com/pnookala/ai-science-training-series/blob/main/02_intro_neural_networks/images/LinearModel_1.png?raw=1\"  align=\"center\"/>\n",
        "\n",
        "\n",
        "\n",
        "The linear layers in PyTorch perform a basic $xW + b$. These \"fully connected\" layers connect each input to each output with some weight parameter. We wouldn't expect a simple linear model $f(x) = xW+b$ directly outputting the class label and minimizing mean squared error to work well - the model would output labels like 3.55 and 2.11 instead of skipping to integers."
      ]
    },
    {
      "cell_type": "markdown",
      "metadata": {
        "id": "RlZhOqh3QV6o"
      },
      "source": [
        "We now need:\n",
        "- A loss function $J(\\theta)$ where $\\theta$ is the list of parameters (here W and b). Last week, we used mean squared error (MSE), but this week let's make two changes that make more sense for classification:\n",
        "    - Change the output to be a length-10 vector of class probabilities (0 to 1, adding to 1).\n",
        "    - Cross entropy as the loss function, which is typical for classification. You can read more [here](https://gombru.github.io/2018/05/23/cross_entropy_loss/).\n",
        "\n",
        "- An optimization method or optimizer such as the stochastic gradient descent (sgd) method, the Adam optimizer, RMSprop, Adagrad etc. Let's start with stochastic gradient descent (sgd), like last week. For far more information about more advanced optimizers than basic SGD, with some cool animations, see https://ruder.io/optimizing-gradient-descent/ or https://distill.pub/2017/momentum/.\n",
        "\n",
        "- A learning rate. As we learned last week, the learning rate controls how far we move during each step."
      ]
    },
    {
      "cell_type": "code",
      "execution_count": null,
      "metadata": {
        "id": "HcOOyYouQV6o"
      },
      "outputs": [],
      "source": [
        "class LinearClassifier(nn.Module):\n",
        "\n",
        "    def __init__(self):\n",
        "        super().__init__()\n",
        "\n",
        "        # First, we need to convert the input image to a vector by using\n",
        "        # nn.Flatten(). For MNIST, it means the second dimension 28*28 becomes 784.\n",
        "        self.flatten = nn.Flatten()\n",
        "\n",
        "        # Here, we add a fully connected (\"dense\") layer that has 28 x 28 = 784 input nodes\n",
        "        #(one for each pixel in the input image) and 10 output nodes (for probabilities of each class).\n",
        "        self.layer_1 = nn.Linear(28*28, 10)\n",
        "\n",
        "    def forward(self, x):\n",
        "\n",
        "        x = self.flatten(x)\n",
        "        x = self.layer_1(x)\n",
        "\n",
        "        return x"
      ]
    },
    {
      "cell_type": "code",
      "execution_count": null,
      "metadata": {
        "colab": {
          "base_uri": "https://localhost:8080/"
        },
        "id": "G14NQez1QV6o",
        "outputId": "03277913-5f71-4520-a2f4-19a8cb8b0bb8"
      },
      "outputs": [
        {
          "output_type": "stream",
          "name": "stdout",
          "text": [
            "LinearClassifier(\n",
            "  (flatten): Flatten(start_dim=1, end_dim=-1)\n",
            "  (layer_1): Linear(in_features=784, out_features=10, bias=True)\n",
            ")\n"
          ]
        }
      ],
      "source": [
        "linear_model = LinearClassifier()\n",
        "print(linear_model)\n",
        "\n",
        "loss_fn = nn.CrossEntropyLoss()\n",
        "optimizer = torch.optim.SGD(linear_model.parameters(), lr=0.05)"
      ]
    },
    {
      "cell_type": "markdown",
      "metadata": {
        "id": "4LensuHSQV6o"
      },
      "source": [
        "# Learning\n",
        "Now we are ready to train our first model. A training step is comprised of:\n",
        "- A forward pass: the input is passed through the network\n",
        "- Backpropagation: A backward pass to compute the gradient $\\frac{\\partial J}{\\partial \\mathbf{W}}$ of the loss function with respect to the parameters of the network.\n",
        "- Weight updates $\\mathbf{W} = \\mathbf{W} - \\alpha \\frac{\\partial J}{\\partial \\mathbf{W}} $ where $\\alpha$ is the learning rate.\n",
        "\n",
        "How many steps do we take?\n",
        "- The batch size corresponds to the number of training examples in one pass (forward + backward). A smaller batch size allows the model to learn from individual examples but takes longer to train. A larger batch size requires fewer steps but may result in the model not capturing the nuances in the data. The higher the batch size, the more memory you will require.  \n",
        "- An epoch means one pass through the whole training data (looping over the batches). Using few epochs can lead to underfitting and using too many can lead to overfitting.\n",
        "- The choice of batch size and learning rate are important for performance, generalization and accuracy in deep learning.\n",
        "\n",
        "\n",
        "\n",
        "\n"
      ]
    },
    {
      "cell_type": "code",
      "execution_count": null,
      "metadata": {
        "id": "9bqMRyLMQV6o"
      },
      "outputs": [],
      "source": [
        "batch_size = 128\n",
        "\n",
        "# The dataloader makes our dataset iterable\n",
        "train_dataloader = torch.utils.data.DataLoader(training_data, batch_size=batch_size)\n",
        "val_dataloader = torch.utils.data.DataLoader(validation_data, batch_size=batch_size)"
      ]
    },
    {
      "cell_type": "code",
      "execution_count": null,
      "metadata": {
        "id": "Wb78IJxEQV6o"
      },
      "outputs": [],
      "source": [
        "def train_one_epoch(dataloader, model, loss_fn, optimizer):\n",
        "    model.train()\n",
        "    for batch, (X, y) in enumerate(dataloader):\n",
        "        # forward pass\n",
        "        pred = model(X)\n",
        "        loss = loss_fn(pred, y)\n",
        "\n",
        "        # backward pass calculates gradients\n",
        "        loss.backward()\n",
        "\n",
        "        # take one step with these gradients\n",
        "        optimizer.step()\n",
        "\n",
        "        # resets the gradients\n",
        "        optimizer.zero_grad()"
      ]
    },
    {
      "cell_type": "code",
      "execution_count": null,
      "metadata": {
        "id": "tc4v1BCoQV6o"
      },
      "outputs": [],
      "source": [
        "def evaluate(dataloader, model, loss_fn):\n",
        "    # Set the model to evaluation mode - some NN pieces behave differently during training\n",
        "    # Unnecessary in this situation but added for best practices\n",
        "    model.eval()\n",
        "    size = len(dataloader.dataset)\n",
        "    num_batches = len(dataloader)\n",
        "    loss, correct = 0, 0\n",
        "\n",
        "    # We can save computation and memory by not calculating gradients here - we aren't optimizing\n",
        "    with torch.no_grad():\n",
        "        # loop over all of the batches\n",
        "        for X, y in dataloader:\n",
        "            pred = model(X)\n",
        "            loss += loss_fn(pred, y).item()\n",
        "            # how many are correct in this batch? Tracking for accuracy\n",
        "            correct += (pred.argmax(1) == y).type(torch.float).sum().item()\n",
        "\n",
        "    loss /= num_batches\n",
        "    correct /= size\n",
        "\n",
        "    accuracy = 100*correct\n",
        "    return accuracy, loss"
      ]
    },
    {
      "cell_type": "code",
      "execution_count": null,
      "metadata": {
        "colab": {
          "base_uri": "https://localhost:8080/"
        },
        "id": "1An0KnkSQV6o",
        "outputId": "ed726c55-ca74-4224-a7ad-d94748f8d850"
      },
      "outputs": [
        {
          "output_type": "stream",
          "name": "stdout",
          "text": [
            "Epoch 0: training loss: 0.5035464838345846, accuracy: 87.55208333333333\n",
            "Epoch 0: val. loss: 0.4961135764705374, val. accuracy: 87.48333333333333\n",
            "Epoch 1: training loss: 0.4225269256830215, accuracy: 88.92708333333333\n",
            "Epoch 1: val. loss: 0.4133160497913969, val. accuracy: 88.825\n",
            "Epoch 2: training loss: 0.3883093101580938, accuracy: 89.61666666666666\n",
            "Epoch 2: val. loss: 0.37843790682072337, val. accuracy: 89.525\n",
            "Epoch 3: training loss: 0.36821188978354136, accuracy: 90.05\n",
            "Epoch 3: val. loss: 0.35811158824474254, val. accuracy: 90.00833333333334\n",
            "Epoch 4: training loss: 0.35455118521054585, accuracy: 90.37708333333333\n",
            "Epoch 4: val. loss: 0.34442845335666167, val. accuracy: 90.21666666666667\n",
            "CPU times: user 1min 12s, sys: 190 ms, total: 1min 12s\n",
            "Wall time: 1min 13s\n"
          ]
        }
      ],
      "source": [
        "%%time\n",
        "\n",
        "epochs = 5\n",
        "train_acc_all = []\n",
        "val_acc_all = []\n",
        "for j in range(epochs):\n",
        "    train_one_epoch(train_dataloader, linear_model, loss_fn, optimizer)\n",
        "\n",
        "    # checking on the training loss and accuracy once per epoch\n",
        "    acc, loss = evaluate(train_dataloader, linear_model, loss_fn)\n",
        "    train_acc_all.append(acc)\n",
        "    print(f\"Epoch {j}: training loss: {loss}, accuracy: {acc}\")\n",
        "\n",
        "    # checking on the validation loss and accuracy once per epoch\n",
        "    val_acc, val_loss = evaluate(val_dataloader, linear_model, loss_fn)\n",
        "    val_acc_all.append(val_acc)\n",
        "    print(f\"Epoch {j}: val. loss: {val_loss}, val. accuracy: {val_acc}\")"
      ]
    },
    {
      "cell_type": "code",
      "execution_count": null,
      "metadata": {
        "colab": {
          "base_uri": "https://localhost:8080/",
          "height": 868
        },
        "id": "ab3xtxIeQV6o",
        "outputId": "2430d3a4-e27b-45dd-f5d9-a9ea95e23db8"
      },
      "outputs": [
        {
          "output_type": "execute_result",
          "data": {
            "text/plain": [
              "<matplotlib.legend.Legend at 0x7ad051959d50>"
            ]
          },
          "metadata": {},
          "execution_count": 12
        },
        {
          "output_type": "display_data",
          "data": {
            "text/plain": [
              "<Figure size 1000x1000 with 1 Axes>"
            ],
            "image/png": "[encoded data removed]"
          },
          "metadata": {}
        }
      ],
      "source": [
        "pltsize=1\n",
        "plt.figure(figsize=(10*pltsize, 10 * pltsize))\n",
        "plt.plot(range(epochs), train_acc_all,label = 'Training Acc.' )\n",
        "plt.plot(range(epochs), val_acc_all, label = 'Validation Acc.' )\n",
        "plt.xlabel('Epoch #')\n",
        "plt.ylabel('Loss')\n",
        "plt.legend()"
      ]
    },
    {
      "cell_type": "code",
      "execution_count": null,
      "metadata": {
        "colab": {
          "base_uri": "https://localhost:8080/",
          "height": 125
        },
        "id": "C65Zi5UrQV6o",
        "outputId": "17254e0b-5f25-48f5-f478-ad9cb5afb678"
      },
      "outputs": [
        {
          "output_type": "display_data",
          "data": {
            "text/plain": [
              "<Figure size 1000x100 with 10 Axes>"
            ],
            "image/png": "[encoded data removed]"
          },
          "metadata": {}
        }
      ],
      "source": [
        "# Visualize how the model is doing on the first 10 examples\n",
        "pltsize=1\n",
        "plt.figure(figsize=(10*pltsize, pltsize))\n",
        "linear_model.eval()\n",
        "batch = next(iter(train_dataloader))\n",
        "predictions = linear_model(batch[0])\n",
        "\n",
        "for i in range(10):\n",
        "    plt.subplot(1,10,i+1)\n",
        "    plt.axis('off')\n",
        "    plt.imshow(batch[0][i,0,:,:], cmap=\"gray\")\n",
        "    plt.title('%d' % predictions[i,:].argmax())"
      ]
    },
    {
      "cell_type": "markdown",
      "metadata": {
        "id": "senvnon4QV6p"
      },
      "source": [
        "Exercise: How can you improve the accuracy? Some things you might consider: increasing the number of epochs, changing the learning rate, etc."
      ]
    },
    {
      "cell_type": "markdown",
      "metadata": {
        "id": "yHbkz1jyQV6p"
      },
      "source": [
        "# Prediction\n",
        "\n",
        "Let's see how our model generalizes to the unseen test data.\n",
        "\n"
      ]
    },
    {
      "cell_type": "code",
      "execution_count": null,
      "metadata": {
        "id": "8mrKpuohQV6p"
      },
      "outputs": [],
      "source": [
        "#For HW: cell to change batch size\n",
        "#create dataloader for test data\n",
        "# The dataloader makes our dataset iterable\n",
        "\n",
        "batch_size_test = 256\n",
        "test_dataloader = torch.utils.data.DataLoader(test_data, batch_size=batch_size_test)"
      ]
    },
    {
      "cell_type": "code",
      "execution_count": null,
      "metadata": {
        "colab": {
          "base_uri": "https://localhost:8080/"
        },
        "id": "fwtPZBsCQV6p",
        "outputId": "f3130598-6368-4c68-f6bc-82dcdfd00123"
      },
      "outputs": [
        {
          "output_type": "stream",
          "name": "stdout",
          "text": [
            "Test loss: 0.3326, test accuracy: 90.83%\n"
          ]
        }
      ],
      "source": [
        "acc_test, loss_test = evaluate(test_dataloader, linear_model, loss_fn)\n",
        "print(\"Test loss: %.4f, test accuracy: %.2f%%\" % (loss_test, acc_test))"
      ]
    },
    {
      "cell_type": "markdown",
      "metadata": {
        "id": "Sj21e0NpQV6p"
      },
      "source": [
        "We can now take a closer look at the results.\n",
        "\n",
        "Let's define a helper function to show the failure cases of our classifier."
      ]
    },
    {
      "cell_type": "code",
      "execution_count": null,
      "metadata": {
        "id": "0h3fu6n3QV6p"
      },
      "outputs": [],
      "source": [
        "def show_failures(model, dataloader, maxtoshow=10):\n",
        "    model.eval()\n",
        "    batch = next(iter(dataloader))\n",
        "    predictions = model(batch[0])\n",
        "\n",
        "    rounded = predictions.argmax(1)\n",
        "    errors = rounded!=batch[1]\n",
        "    print('Showing max', maxtoshow, 'first failures. '\n",
        "          'The predicted class is shown first and the correct class in parentheses.')\n",
        "    ii = 0\n",
        "    plt.figure(figsize=(maxtoshow, 1))\n",
        "    for i in range(batch[0].shape[0]):\n",
        "        if ii>=maxtoshow:\n",
        "            break\n",
        "        if errors[i]:\n",
        "            plt.subplot(1, maxtoshow, ii+1)\n",
        "            plt.axis('off')\n",
        "            plt.imshow(batch[0][i,0,:,:], cmap=\"gray\")\n",
        "            plt.title(\"%d (%d)\" % (rounded[i], batch[1][i]))\n",
        "            ii = ii + 1"
      ]
    },
    {
      "cell_type": "markdown",
      "metadata": {
        "id": "R8Ir-RgUQV6p"
      },
      "source": [
        "Here are the first 10 images from the test data that this small model classified to a wrong class:\n",
        "\n"
      ]
    },
    {
      "cell_type": "code",
      "execution_count": null,
      "metadata": {
        "colab": {
          "base_uri": "https://localhost:8080/",
          "height": 143
        },
        "id": "E7rzohkRQV6p",
        "outputId": "56feab18-2705-4cfa-cf68-5024e878a5cd"
      },
      "outputs": [
        {
          "output_type": "stream",
          "name": "stdout",
          "text": [
            "Showing max 10 first failures. The predicted class is shown first and the correct class in parentheses.\n"
          ]
        },
        {
          "output_type": "display_data",
          "data": {
            "text/plain": [
              "<Figure size 1000x100 with 10 Axes>"
            ],
            "image/png": "[encoded data removed]"
          },
          "metadata": {}
        }
      ],
      "source": [
        "show_failures(linear_model, test_dataloader)"
      ]
    },
    {
      "cell_type": "markdown",
      "metadata": {
        "id": "QEGuYgScQV6p"
      },
      "source": [
        "<!-- # Exercise:\n",
        "- Try changing the loss function,\n",
        "- Try changing the optimizer -->"
      ]
    },
    {
      "cell_type": "markdown",
      "metadata": {
        "id": "GK1BFgurQV6p"
      },
      "source": [
        "# Multilayer Model\n",
        "Our linear model isn't enough for high accuracy on this dataset. To improve the model, we often need to add more layers and nonlinearities.\n",
        "<img src=\"https://github.com/pnookala/ai-science-training-series/blob/main/02_intro_neural_networks/images/shallow_nn.png?raw=1\"  align=\"left\"/>\n",
        "\n",
        "The output of this NN can be written as\n",
        "\\begin{equation}\\label{eq: NN1d}\n",
        "  \\hat{u}(x) = \\sigma_2(\\sigma_1(\\mathbf{x}\\mathbf{W}_1 + \\mathbf{b}_1)\\mathbf{W}_2 + \\mathbf{b}_2),\n",
        "\\end{equation}\n",
        "where $\\mathbf{x}$ is the input, $\\mathbf{W}_j$ are the weights of the neural network, $\\sigma_j$ the (nonlinear) activation functions, and $\\mathbf{b}_j$ its biases. The activation function introduces the nonlinearity and makes it possible to learn more complex tasks. Desirable properties in an activation function include being differentiable, bounded, and monotonic.\n",
        "\n",
        "\n",
        "Image source: [PragatiBaheti](https://www.v7labs.com/blog/neural-networks-activation-functions)\n",
        "<img src=\"https://github.com/pnookala/ai-science-training-series/blob/main/02_intro_neural_networks/images/activation.jpeg?raw=1\"  align=\"center\"/>\n",
        "\n",
        "Adding more layers to obtain a deep neural network:\n",
        "<img src=\"https://github.com/pnookala/ai-science-training-series/blob/main/02_intro_neural_networks/images/deep_nn_annotated.jpg?raw=1\"  align=\"left\"/>\n",
        "\n",
        "\n",
        "\n",
        "# Important things to know\n",
        "Deep Neural networks can be overly flexible/complicated and \"overfit\" your data, just like fitting overly complicated polynomials:\n",
        "<img src=\"https://github.com/pnookala/ai-science-training-series/blob/main/02_intro_neural_networks/images/bias_vs_variance.png?raw=1\"  align=\"left\"/>\n",
        "\n",
        "\n",
        "Vizualization wrt to the accuracy and loss (Image source: [Baeldung](https://www.baeldung.com/cs/ml-underfitting-overfitting)):\n",
        "<img src=\"https://github.com/pnookala/ai-science-training-series/blob/main/02_intro_neural_networks/images/acc_under_over.webp?raw=1\"  align=\"center\"/>\n",
        "\n",
        "\n",
        "To improve the generalization of our model on previously unseen data, we employ a technique known as regularization, which constrains our optimization problem in order to discourage complex models.\n",
        "\n",
        "  - Dropout is the commonly used regularization technique. The Dropout layer randomly sets input units to 0 with a frequency of rate at each step during training time, which helps prevent overfitting.\n",
        "  - Penalizing the loss function by adding a term such as $\\lambda ||\\mathbf{W}||^2$ is alsp a commonly used regularization technique. This helps \"control\" the magnitude of the weights of the network.\n",
        "    \n",
        "Vanishing gradients: Gradients become small as they propagate backward through the layers. Squashing activation functions like sigmoid or tanh could cause this.\n",
        "\n",
        "Exploding gradients: Gradients grow exponentially usually due to \"poor\" weight initialization.\n",
        "\n",
        "<!--  <img src=\"images/test_data_rule.png\" width=\"800\" hight=\"500\" align=\"center\"/>\n",
        "  -->"
      ]
    },
    {
      "cell_type": "markdown",
      "metadata": {
        "id": "31A8w5ZwQV6p"
      },
      "source": [
        "We can now implement a deep network in PyTorch. nn.Dropout() performs the Dropout operation mentioned earlier"
      ]
    },
    {
      "cell_type": "code",
      "execution_count": null,
      "metadata": {
        "id": "9ad-nGikQV6p"
      },
      "outputs": [],
      "source": [
        "#For HW: cell to change activation\n",
        "class NonlinearClassifier(nn.Module):\n",
        "\n",
        "    def __init__(self):\n",
        "        super().__init__()\n",
        "        self.flatten = nn.Flatten()\n",
        "        self.layers_stack = nn.Sequential(\n",
        "            nn.Linear(28*28, 50),\n",
        "            nn.ReLU(),\n",
        "            nn.Dropout(0.2),\n",
        "            nn.Linear(50, 50),\n",
        "            nn.ReLU(),\n",
        "           # nn.Dropout(0.2),\n",
        "            nn.Linear(50, 50),\n",
        "            nn.ReLU(),\n",
        "           # nn.Dropout(0.2),\n",
        "            nn.Linear(50, 10)\n",
        "        )\n",
        "\n",
        "    def forward(self, x):\n",
        "        x = self.flatten(x)\n",
        "        x = self.layers_stack(x)\n",
        "\n",
        "        return x"
      ]
    },
    {
      "cell_type": "code",
      "execution_count": null,
      "metadata": {
        "id": "ZgBHCKL0QV6p"
      },
      "outputs": [],
      "source": [
        "#### For HW: cell to change learning rate\n",
        "nonlinear_model = NonlinearClassifier()\n",
        "loss_fn = nn.CrossEntropyLoss()\n",
        "optimizer = torch.optim.SGD(nonlinear_model.parameters(), lr=0.05)"
      ]
    },
    {
      "cell_type": "code",
      "execution_count": null,
      "metadata": {
        "colab": {
          "base_uri": "https://localhost:8080/"
        },
        "id": "T_QnzWQUQV6p",
        "outputId": "b757cd2e-8b5c-4505-8125-d2a7cd8970d6"
      },
      "outputs": [
        {
          "output_type": "stream",
          "name": "stdout",
          "text": [
            "Epoch 0: training loss: 0.7772501138051351, accuracy: 77.31875000000001\n",
            "Epoch 0: val. loss: 0.769653560633355, val. accuracy: 77.225\n",
            "Epoch 1: training loss: 0.4082496480544408, accuracy: 88.59583333333333\n",
            "Epoch 1: val. loss: 0.40310600082925024, val. accuracy: 88.63333333333333\n",
            "Epoch 2: training loss: 0.30994191026687623, accuracy: 91.27499999999999\n",
            "Epoch 2: val. loss: 0.3034210840755321, val. accuracy: 90.99166666666667\n",
            "Epoch 3: training loss: 0.2486067324479421, accuracy: 93.0375\n",
            "Epoch 3: val. loss: 0.24422786099479554, val. accuracy: 92.675\n",
            "Epoch 4: training loss: 0.21499934262037276, accuracy: 93.89166666666667\n",
            "Epoch 4: val. loss: 0.21349170265045572, val. accuracy: 93.58333333333333\n",
            "CPU times: user 1min 17s, sys: 173 ms, total: 1min 17s\n",
            "Wall time: 1min 18s\n"
          ]
        }
      ],
      "source": [
        "%%time\n",
        "\n",
        "epochs = 5\n",
        "train_acc_all = []\n",
        "val_acc_all = []\n",
        "for j in range(epochs):\n",
        "    train_one_epoch(train_dataloader, nonlinear_model, loss_fn, optimizer)\n",
        "\n",
        "    # checking on the training loss and accuracy once per epoch\n",
        "    acc, loss = evaluate(train_dataloader, nonlinear_model, loss_fn)\n",
        "    train_acc_all.append(acc)\n",
        "    print(f\"Epoch {j}: training loss: {loss}, accuracy: {acc}\")\n",
        "\n",
        "    # checking on the validation loss and accuracy once per epoch\n",
        "    val_acc, val_loss = evaluate(val_dataloader, nonlinear_model, loss_fn)\n",
        "    val_acc_all.append(val_acc)\n",
        "    print(f\"Epoch {j}: val. loss: {val_loss}, val. accuracy: {val_acc}\")"
      ]
    },
    {
      "cell_type": "code",
      "execution_count": null,
      "metadata": {
        "id": "K0dtyPARQV6p",
        "outputId": "21251c90-01ec-45c2-d3df-0a29768029c2"
      },
      "outputs": [
        {
          "data": {
            "text/plain": [
              "<matplotlib.legend.Legend at 0x7f9e40644650>"
            ]
          },
          "execution_count": 21,
          "metadata": {},
          "output_type": "execute_result"
        },
        {
          "data": {
            "image/png": "[encoded data removed]",
            "text/plain": [
              "<Figure size 720x720 with 1 Axes>"
            ]
          },
          "metadata": {
            "needs_background": "light"
          },
          "output_type": "display_data"
        }
      ],
      "source": [
        "pltsize=1\n",
        "plt.figure(figsize=(10*pltsize, 10 * pltsize))\n",
        "plt.plot(range(epochs), train_acc_all,label = 'Training Acc.' )\n",
        "plt.plot(range(epochs), val_acc_all, label = 'Validation Acc.' )\n",
        "plt.xlabel('Epoch #')\n",
        "plt.ylabel('Loss')\n",
        "plt.legend()"
      ]
    },
    {
      "cell_type": "code",
      "execution_count": null,
      "metadata": {
        "id": "rJO3h5PqQV6p",
        "outputId": "15bd4769-ee5b-442f-af5d-5d0d341b3e1c"
      },
      "outputs": [
        {
          "name": "stdout",
          "output_type": "stream",
          "text": [
            "Showing max 10 first failures. The predicted class is shown first and the correct class in parentheses.\n"
          ]
        },
        {
          "data": {
            "image/png": "[encoded data removed]",
            "text/plain": [
              "<Figure size 720x72 with 10 Axes>"
            ]
          },
          "metadata": {
            "needs_background": "light"
          },
          "output_type": "display_data"
        }
      ],
      "source": [
        "show_failures(nonlinear_model, test_dataloader)"
      ]
    },
    {
      "cell_type": "markdown",
      "metadata": {
        "id": "Z2m3Fgv7QV6p"
      },
      "source": [
        "# Recap\n",
        "To train and validate a neural network model, you need:\n",
        "- Data split into training/validation/test sets,\n",
        "- A model with parameters to learn,\n",
        "- An appropriate loss function,\n",
        "- An optimizer (with tunable parameters such as learning rate, weight decay etc.) used to learn the parameters of the model.\n"
      ]
    },
    {
      "cell_type": "markdown",
      "metadata": {
        "id": "fbu12W8SQV6p"
      },
      "source": [
        "# Homework"
      ]
    },
    {
      "cell_type": "markdown",
      "metadata": {
        "id": "zIgOEEx9QV6p"
      },
      "source": [
        "1. Compare the quality of your model when using different:\n",
        " - batch sizes,\n",
        " - learning rates,\n",
        " - activation functions.\n",
        "\n",
        "3. Bonus: What is a learning rate scheduler?\n",
        "\n",
        "If you have time, experiment with how to improve the model. Note: training and validation data can be used to compare models, but test data should be saved until the end as a final check of generalization."
      ]
    },
    {
      "cell_type": "code",
      "source": [
        "###### My Homework Code ########\n",
        "\n",
        "import torch\n",
        "import torch.nn as nn\n",
        "import torch.optim as optim\n",
        "from torch.optim.lr_scheduler import StepLR\n",
        "\n",
        "class NonlinearClassifier(nn.Module):\n",
        "    def __init__(self, activation=nn.ReLU, dropout_rate=0.2):\n",
        "        super().__init__()\n",
        "        self.flatten = nn.Flatten()\n",
        "        self.layers_stack = nn.Sequential(\n",
        "            nn.Linear(28 * 28, 50),\n",
        "            activation(),\n",
        "            nn.Dropout(dropout_rate),\n",
        "            nn.Linear(50, 50),\n",
        "            activation(),\n",
        "            nn.Dropout(dropout_rate),\n",
        "            nn.Linear(50, 50),\n",
        "            activation(),\n",
        "            nn.Dropout(dropout_rate),\n",
        "            nn.Linear(50, 10)\n",
        "        )\n",
        "\n",
        "    def forward(self, x):\n",
        "        x = self.flatten(x)\n",
        "        x = self.layers_stack(x)\n",
        "        return x\n",
        "\n",
        "# Training function\n",
        "def train_model(\n",
        "    model,\n",
        "    train_loader,\n",
        "    val_loader,\n",
        "    criterion,\n",
        "    optimizer,\n",
        "    scheduler=None,\n",
        "    epochs=20,\n",
        "    device=\"cpu\"\n",
        "):\n",
        "    model.to(device)\n",
        "    for epoch in range(epochs):\n",
        "        model.train()\n",
        "        train_loss = 0.0\n",
        "        for batch_idx, (images, labels) in enumerate(train_loader):\n",
        "            images, labels = images.to(device), labels.to(device)\n",
        "\n",
        "            # Forward pass\n",
        "            outputs = model(images)\n",
        "            loss = criterion(outputs, labels)\n",
        "\n",
        "            # Backward pass and optimization\n",
        "            optimizer.zero_grad()\n",
        "            loss.backward()\n",
        "            optimizer.step()\n",
        "\n",
        "            train_loss += loss.item()\n",
        "\n",
        "        # Step the scheduler (if using)\n",
        "        if scheduler:\n",
        "            scheduler.step()\n",
        "\n",
        "        # Validation phase\n",
        "        model.eval()\n",
        "        val_loss = 0.0\n",
        "        correct = 0\n",
        "        total = 0\n",
        "        with torch.no_grad():\n",
        "            for images, labels in val_loader:\n",
        "                images, labels = images.to(device), labels.to(device)\n",
        "                outputs = model(images)\n",
        "                loss = criterion(outputs, labels)\n",
        "                val_loss += loss.item()\n",
        "\n",
        "                _, predicted = torch.max(outputs, 1)\n",
        "                total += labels.size(0)\n",
        "                correct += (predicted == labels).sum().item()\n",
        "\n",
        "        print(\n",
        "            f\"Epoch {epoch+1}/{epochs}, \"\n",
        "            f\"Train Loss: {train_loss/len(train_loader):.4f}, \"\n",
        "            f\"Val Loss: {val_loss/len(val_loader):.4f}, \"\n",
        "            f\"Val Accuracy: {correct/total:.4f}\"\n",
        "        )\n",
        "\n",
        "# Example usage\n",
        "if __name__ == \"__main__\":\n",
        "    # Example data loaders\n",
        "    from torchvision import datasets, transforms\n",
        "\n",
        "    transform = transforms.Compose([transforms.ToTensor()])\n",
        "\n",
        "    # Experiment with different batch sizes\n",
        "    batch_sizes = [32, 64, 128, 256, 512]\n",
        "    for batch_size in batch_sizes:\n",
        "        print(f\"\\nTraining with batch size: {batch_size}\")\n",
        "\n",
        "        train_loader = torch.utils.data.DataLoader(\n",
        "            datasets.MNIST(root=\"./data\", train=True, download=True, transform=transform),\n",
        "            batch_size=batch_size,\n",
        "            shuffle=True\n",
        "        )\n",
        "        val_loader = torch.utils.data.DataLoader(\n",
        "            datasets.MNIST(root=\"./data\", train=False, download=True, transform=transform),\n",
        "            batch_size=batch_size,\n",
        "            shuffle=False\n",
        "        )\n",
        "\n",
        "        # Initialize model with different activation functions\n",
        "        activation_functions = [nn.ReLU, nn.Tanh, nn.Sigmoid]\n",
        "        for activation in activation_functions:\n",
        "            print(f\"Training with activation function: {activation.__name__}\")\n",
        "            model = NonlinearClassifier(activation=activation)\n",
        "\n",
        "            # Define criterion, optimizer, and scheduler\n",
        "            criterion = nn.CrossEntropyLoss()\n",
        "            optimizer = optim.SGD(model.parameters(), lr=0.1, momentum=0.9)\n",
        "            scheduler = StepLR(optimizer, step_size=5, gamma=0.1)  # Decay LR by 0.1 every 5 epochs\n",
        "\n",
        "            # Train the model\n",
        "            train_model(\n",
        "                model,\n",
        "                train_loader,\n",
        "                val_loader,\n",
        "                criterion,\n",
        "                optimizer,\n",
        "                scheduler=scheduler,\n",
        "                epochs=10,\n",
        "                device=\"cuda\" if torch.cuda.is_available() else \"cpu\"\n",
        "            )"
      ],
      "metadata": {
        "colab": {
          "base_uri": "https://localhost:8080/"
        },
        "id": "SXUxKqthS_wU",
        "outputId": "3595f3a4-6ea8-4f3c-8e34-31e16ad4e6ff"
      },
      "execution_count": 1,
      "outputs": [
        {
          "metadata": {
            "tags": null
          },
          "name": "stdout",
          "output_type": "stream",
          "text": [
            "\n",
            "Training with batch size: 32\n",
            "Downloading http://yann.lecun.com/exdb/mnist/train-images-idx3-ubyte.gz\n",
            "Failed to download (trying next):\n",
            "HTTP Error 403: Forbidden\n",
            "\n",
            "Downloading https://ossci-datasets.s3.amazonaws.com/mnist/train-images-idx3-ubyte.gz\n",
            "Downloading https://ossci-datasets.s3.amazonaws.com/mnist/train-images-idx3-ubyte.gz to ./data/MNIST/raw/train-images-idx3-ubyte.gz\n"
          ]
        },
        {
          "metadata": {
            "tags": null
          },
          "name": "stderr",
          "output_type": "stream",
          "text": [
            "100%|██████████| 9.91M/9.91M [00:01<00:00, 8.83MB/s]\n"
          ]
        },
        {
          "metadata": {
            "tags": null
          },
          "name": "stdout",
          "output_type": "stream",
          "text": [
            "Extracting ./data/MNIST/raw/train-images-idx3-ubyte.gz to ./data/MNIST/raw\n",
            "\n",
            "Downloading http://yann.lecun.com/exdb/mnist/train-labels-idx1-ubyte.gz\n",
            "Failed to download (trying next):\n",
            "HTTP Error 403: Forbidden\n",
            "\n",
            "Downloading https://ossci-datasets.s3.amazonaws.com/mnist/train-labels-idx1-ubyte.gz\n",
            "Downloading https://ossci-datasets.s3.amazonaws.com/mnist/train-labels-idx1-ubyte.gz to ./data/MNIST/raw/train-labels-idx1-ubyte.gz\n"
          ]
        },
        {
          "metadata": {
            "tags": null
          },
          "name": "stderr",
          "output_type": "stream",
          "text": [
            "100%|██████████| 28.9k/28.9k [00:00<00:00, 315kB/s]\n"
          ]
        },
        {
          "metadata": {
            "tags": null
          },
          "name": "stdout",
          "output_type": "stream",
          "text": [
            "Extracting ./data/MNIST/raw/train-labels-idx1-ubyte.gz to ./data/MNIST/raw\n",
            "\n",
            "Downloading http://yann.lecun.com/exdb/mnist/t10k-images-idx3-ubyte.gz\n",
            "Failed to download (trying next):\n",
            "HTTP Error 403: Forbidden\n",
            "\n",
            "Downloading https://ossci-datasets.s3.amazonaws.com/mnist/t10k-images-idx3-ubyte.gz\n",
            "Downloading https://ossci-datasets.s3.amazonaws.com/mnist/t10k-images-idx3-ubyte.gz to ./data/MNIST/raw/t10k-images-idx3-ubyte.gz\n"
          ]
        },
        {
          "metadata": {
            "tags": null
          },
          "name": "stderr",
          "output_type": "stream",
          "text": [
            "100%|██████████| 1.65M/1.65M [00:00<00:00, 2.95MB/s]\n"
          ]
        },
        {
          "metadata": {
            "tags": null
          },
          "name": "stdout",
          "output_type": "stream",
          "text": [
            "Extracting ./data/MNIST/raw/t10k-images-idx3-ubyte.gz to ./data/MNIST/raw\n",
            "\n",
            "Downloading http://yann.lecun.com/exdb/mnist/t10k-labels-idx1-ubyte.gz\n",
            "Failed to download (trying next):\n",
            "HTTP Error 403: Forbidden\n",
            "\n",
            "Downloading https://ossci-datasets.s3.amazonaws.com/mnist/t10k-labels-idx1-ubyte.gz\n",
            "Downloading https://ossci-datasets.s3.amazonaws.com/mnist/t10k-labels-idx1-ubyte.gz to ./data/MNIST/raw/t10k-labels-idx1-ubyte.gz\n"
          ]
        },
        {
          "metadata": {
            "tags": null
          },
          "name": "stderr",
          "output_type": "stream",
          "text": [
            "100%|██████████| 4.54k/4.54k [00:00<00:00, 4.21MB/s]\n"
          ]
        },
        {
          "output_type": "stream",
          "name": "stdout",
          "text": [
            "Extracting ./data/MNIST/raw/t10k-labels-idx1-ubyte.gz to ./data/MNIST/raw\n",
            "\n",
            "Training with activation function: ReLU\n",
            "Epoch 1/10, Train Loss: 0.9178, Val Loss: 0.5976, Val Accuracy: 0.8601\n",
            "Epoch 2/10, Train Loss: 1.3535, Val Loss: 1.6573, Val Accuracy: 0.4979\n",
            "Epoch 3/10, Train Loss: 2.0488, Val Loss: 2.3147, Val Accuracy: 0.0980\n",
            "Epoch 4/10, Train Loss: 2.2617, Val Loss: 2.3083, Val Accuracy: 0.0959\n",
            "Epoch 5/10, Train Loss: 2.2286, Val Loss: 2.3063, Val Accuracy: 0.1145\n",
            "Epoch 6/10, Train Loss: 2.2955, Val Loss: 2.3021, Val Accuracy: 0.1136\n",
            "Epoch 7/10, Train Loss: 2.2924, Val Loss: 2.3014, Val Accuracy: 0.1136\n",
            "Epoch 8/10, Train Loss: 2.2920, Val Loss: 2.3014, Val Accuracy: 0.1136\n",
            "Epoch 9/10, Train Loss: 2.2838, Val Loss: 2.2975, Val Accuracy: 0.1161\n",
            "Epoch 10/10, Train Loss: 2.2706, Val Loss: 2.2966, Val Accuracy: 0.1170\n",
            "Training with activation function: Tanh\n",
            "Epoch 1/10, Train Loss: 0.6212, Val Loss: 0.4235, Val Accuracy: 0.8836\n",
            "Epoch 2/10, Train Loss: 0.5315, Val Loss: 0.3319, Val Accuracy: 0.9120\n",
            "Epoch 3/10, Train Loss: 0.5021, Val Loss: 0.3737, Val Accuracy: 0.9061\n",
            "Epoch 4/10, Train Loss: 0.4922, Val Loss: 0.3504, Val Accuracy: 0.9084\n",
            "Epoch 5/10, Train Loss: 0.4948, Val Loss: 0.3585, Val Accuracy: 0.9107\n",
            "Epoch 6/10, Train Loss: 0.3687, Val Loss: 0.2514, Val Accuracy: 0.9296\n",
            "Epoch 7/10, Train Loss: 0.3302, Val Loss: 0.2414, Val Accuracy: 0.9342\n",
            "Epoch 8/10, Train Loss: 0.3126, Val Loss: 0.2353, Val Accuracy: 0.9334\n",
            "Epoch 9/10, Train Loss: 0.3042, Val Loss: 0.2283, Val Accuracy: 0.9365\n",
            "Epoch 10/10, Train Loss: 0.2972, Val Loss: 0.2273, Val Accuracy: 0.9378\n",
            "Training with activation function: Sigmoid\n",
            "Epoch 1/10, Train Loss: 1.7360, Val Loss: 0.6508, Val Accuracy: 0.8011\n",
            "Epoch 2/10, Train Loss: 0.5023, Val Loss: 0.2709, Val Accuracy: 0.9291\n",
            "Epoch 3/10, Train Loss: 0.3314, Val Loss: 0.2127, Val Accuracy: 0.9407\n",
            "Epoch 4/10, Train Loss: 0.2739, Val Loss: 0.1795, Val Accuracy: 0.9493\n",
            "Epoch 5/10, Train Loss: 0.2451, Val Loss: 0.1529, Val Accuracy: 0.9557\n",
            "Epoch 6/10, Train Loss: 0.1982, Val Loss: 0.1431, Val Accuracy: 0.9597\n",
            "Epoch 7/10, Train Loss: 0.1921, Val Loss: 0.1432, Val Accuracy: 0.9599\n",
            "Epoch 8/10, Train Loss: 0.1875, Val Loss: 0.1396, Val Accuracy: 0.9615\n",
            "Epoch 9/10, Train Loss: 0.1853, Val Loss: 0.1398, Val Accuracy: 0.9604\n",
            "Epoch 10/10, Train Loss: 0.1852, Val Loss: 0.1364, Val Accuracy: 0.9619\n",
            "\n",
            "Training with batch size: 64\n",
            "Training with activation function: ReLU\n",
            "Epoch 1/10, Train Loss: 0.6086, Val Loss: 0.2652, Val Accuracy: 0.9295\n",
            "Epoch 2/10, Train Loss: 0.3977, Val Loss: 0.2357, Val Accuracy: 0.9402\n",
            "Epoch 3/10, Train Loss: 0.3498, Val Loss: 0.2355, Val Accuracy: 0.9378\n",
            "Epoch 4/10, Train Loss: 0.3508, Val Loss: 0.2235, Val Accuracy: 0.9427\n",
            "Epoch 5/10, Train Loss: 0.3292, Val Loss: 0.2073, Val Accuracy: 0.9480\n",
            "Epoch 6/10, Train Loss: 0.2427, Val Loss: 0.1588, Val Accuracy: 0.9575\n",
            "Epoch 7/10, Train Loss: 0.2222, Val Loss: 0.1523, Val Accuracy: 0.9599\n",
            "Epoch 8/10, Train Loss: 0.2077, Val Loss: 0.1460, Val Accuracy: 0.9607\n",
            "Epoch 9/10, Train Loss: 0.2045, Val Loss: 0.1487, Val Accuracy: 0.9614\n",
            "Epoch 10/10, Train Loss: 0.1983, Val Loss: 0.1437, Val Accuracy: 0.9601\n",
            "Training with activation function: Tanh\n",
            "Epoch 1/10, Train Loss: 0.4671, Val Loss: 0.2351, Val Accuracy: 0.9352\n",
            "Epoch 2/10, Train Loss: 0.3109, Val Loss: 0.2142, Val Accuracy: 0.9387\n",
            "Epoch 3/10, Train Loss: 0.2827, Val Loss: 0.1833, Val Accuracy: 0.9500\n",
            "Epoch 4/10, Train Loss: 0.2619, Val Loss: 0.2021, Val Accuracy: 0.9465\n",
            "Epoch 5/10, Train Loss: 0.2557, Val Loss: 0.1886, Val Accuracy: 0.9520\n",
            "Epoch 6/10, Train Loss: 0.1962, Val Loss: 0.1455, Val Accuracy: 0.9605\n",
            "Epoch 7/10, Train Loss: 0.1803, Val Loss: 0.1406, Val Accuracy: 0.9624\n",
            "Epoch 8/10, Train Loss: 0.1754, Val Loss: 0.1396, Val Accuracy: 0.9619\n",
            "Epoch 9/10, Train Loss: 0.1672, Val Loss: 0.1389, Val Accuracy: 0.9620\n",
            "Epoch 10/10, Train Loss: 0.1644, Val Loss: 0.1384, Val Accuracy: 0.9610\n",
            "Training with activation function: Sigmoid\n",
            "Epoch 1/10, Train Loss: 1.9268, Val Loss: 0.8379, Val Accuracy: 0.7452\n",
            "Epoch 2/10, Train Loss: 0.6672, Val Loss: 0.3516, Val Accuracy: 0.9082\n",
            "Epoch 3/10, Train Loss: 0.4198, Val Loss: 0.2537, Val Accuracy: 0.9322\n",
            "Epoch 4/10, Train Loss: 0.3298, Val Loss: 0.2118, Val Accuracy: 0.9418\n",
            "Epoch 5/10, Train Loss: 0.2856, Val Loss: 0.1820, Val Accuracy: 0.9510\n",
            "Epoch 6/10, Train Loss: 0.2433, Val Loss: 0.1675, Val Accuracy: 0.9541\n",
            "Epoch 7/10, Train Loss: 0.2390, Val Loss: 0.1646, Val Accuracy: 0.9551\n",
            "Epoch 8/10, Train Loss: 0.2324, Val Loss: 0.1623, Val Accuracy: 0.9550\n",
            "Epoch 9/10, Train Loss: 0.2316, Val Loss: 0.1596, Val Accuracy: 0.9565\n",
            "Epoch 10/10, Train Loss: 0.2268, Val Loss: 0.1592, Val Accuracy: 0.9556\n",
            "\n",
            "Training with batch size: 128\n",
            "Training with activation function: ReLU\n",
            "Epoch 1/10, Train Loss: 0.6302, Val Loss: 0.2114, Val Accuracy: 0.9400\n",
            "Epoch 2/10, Train Loss: 0.3150, Val Loss: 0.1699, Val Accuracy: 0.9510\n",
            "Epoch 3/10, Train Loss: 0.2712, Val Loss: 0.1593, Val Accuracy: 0.9531\n",
            "Epoch 4/10, Train Loss: 0.2396, Val Loss: 0.1443, Val Accuracy: 0.9582\n",
            "Epoch 5/10, Train Loss: 0.2234, Val Loss: 0.1315, Val Accuracy: 0.9610\n",
            "Epoch 6/10, Train Loss: 0.1710, Val Loss: 0.1121, Val Accuracy: 0.9676\n",
            "Epoch 7/10, Train Loss: 0.1588, Val Loss: 0.1122, Val Accuracy: 0.9682\n",
            "Epoch 8/10, Train Loss: 0.1516, Val Loss: 0.1082, Val Accuracy: 0.9680\n",
            "Epoch 9/10, Train Loss: 0.1474, Val Loss: 0.1089, Val Accuracy: 0.9689\n",
            "Epoch 10/10, Train Loss: 0.1416, Val Loss: 0.1071, Val Accuracy: 0.9689\n",
            "Training with activation function: Tanh\n",
            "Epoch 1/10, Train Loss: 0.4824, Val Loss: 0.2016, Val Accuracy: 0.9409\n",
            "Epoch 2/10, Train Loss: 0.2661, Val Loss: 0.1793, Val Accuracy: 0.9462\n",
            "Epoch 3/10, Train Loss: 0.2334, Val Loss: 0.1678, Val Accuracy: 0.9515\n",
            "Epoch 4/10, Train Loss: 0.2150, Val Loss: 0.1466, Val Accuracy: 0.9585\n",
            "Epoch 5/10, Train Loss: 0.2011, Val Loss: 0.1458, Val Accuracy: 0.9600\n",
            "Epoch 6/10, Train Loss: 0.1631, Val Loss: 0.1244, Val Accuracy: 0.9662\n",
            "Epoch 7/10, Train Loss: 0.1568, Val Loss: 0.1233, Val Accuracy: 0.9653\n",
            "Epoch 8/10, Train Loss: 0.1531, Val Loss: 0.1205, Val Accuracy: 0.9666\n",
            "Epoch 9/10, Train Loss: 0.1472, Val Loss: 0.1224, Val Accuracy: 0.9670\n",
            "Epoch 10/10, Train Loss: 0.1489, Val Loss: 0.1176, Val Accuracy: 0.9674\n",
            "Training with activation function: Sigmoid\n",
            "Epoch 1/10, Train Loss: 2.3079, Val Loss: 2.2746, Val Accuracy: 0.1329\n",
            "Epoch 2/10, Train Loss: 1.7148, Val Loss: 1.0989, Val Accuracy: 0.6014\n",
            "Epoch 3/10, Train Loss: 0.9294, Val Loss: 0.5977, Val Accuracy: 0.8450\n",
            "Epoch 4/10, Train Loss: 0.5999, Val Loss: 0.3470, Val Accuracy: 0.9139\n",
            "Epoch 5/10, Train Loss: 0.4403, Val Loss: 0.2669, Val Accuracy: 0.9311\n",
            "Epoch 6/10, Train Loss: 0.3727, Val Loss: 0.2564, Val Accuracy: 0.9335\n",
            "Epoch 7/10, Train Loss: 0.3661, Val Loss: 0.2504, Val Accuracy: 0.9341\n",
            "Epoch 8/10, Train Loss: 0.3581, Val Loss: 0.2449, Val Accuracy: 0.9352\n",
            "Epoch 9/10, Train Loss: 0.3481, Val Loss: 0.2399, Val Accuracy: 0.9369\n",
            "Epoch 10/10, Train Loss: 0.3429, Val Loss: 0.2357, Val Accuracy: 0.9376\n",
            "\n",
            "Training with batch size: 256\n",
            "Training with activation function: ReLU\n",
            "Epoch 1/10, Train Loss: 0.7826, Val Loss: 0.2096, Val Accuracy: 0.9370\n",
            "Epoch 2/10, Train Loss: 0.3045, Val Loss: 0.1641, Val Accuracy: 0.9527\n",
            "Epoch 3/10, Train Loss: 0.2457, Val Loss: 0.1340, Val Accuracy: 0.9579\n",
            "Epoch 4/10, Train Loss: 0.2209, Val Loss: 0.1310, Val Accuracy: 0.9622\n",
            "Epoch 5/10, Train Loss: 0.2061, Val Loss: 0.1294, Val Accuracy: 0.9598\n",
            "Epoch 6/10, Train Loss: 0.1691, Val Loss: 0.1057, Val Accuracy: 0.9674\n",
            "Epoch 7/10, Train Loss: 0.1576, Val Loss: 0.1035, Val Accuracy: 0.9687\n",
            "Epoch 8/10, Train Loss: 0.1532, Val Loss: 0.1023, Val Accuracy: 0.9686\n",
            "Epoch 9/10, Train Loss: 0.1486, Val Loss: 0.1018, Val Accuracy: 0.9695\n",
            "Epoch 10/10, Train Loss: 0.1432, Val Loss: 0.1020, Val Accuracy: 0.9698\n",
            "Training with activation function: Tanh\n",
            "Epoch 1/10, Train Loss: 0.5835, Val Loss: 0.2340, Val Accuracy: 0.9309\n",
            "Epoch 2/10, Train Loss: 0.2808, Val Loss: 0.1711, Val Accuracy: 0.9479\n",
            "Epoch 3/10, Train Loss: 0.2394, Val Loss: 0.1570, Val Accuracy: 0.9542\n",
            "Epoch 4/10, Train Loss: 0.2106, Val Loss: 0.1389, Val Accuracy: 0.9585\n",
            "Epoch 5/10, Train Loss: 0.1962, Val Loss: 0.1328, Val Accuracy: 0.9594\n",
            "Epoch 6/10, Train Loss: 0.1633, Val Loss: 0.1152, Val Accuracy: 0.9655\n",
            "Epoch 7/10, Train Loss: 0.1577, Val Loss: 0.1148, Val Accuracy: 0.9668\n",
            "Epoch 8/10, Train Loss: 0.1575, Val Loss: 0.1142, Val Accuracy: 0.9658\n",
            "Epoch 9/10, Train Loss: 0.1540, Val Loss: 0.1114, Val Accuracy: 0.9667\n",
            "Epoch 10/10, Train Loss: 0.1524, Val Loss: 0.1116, Val Accuracy: 0.9665\n",
            "Training with activation function: Sigmoid\n",
            "Epoch 1/10, Train Loss: 2.3131, Val Loss: 2.3116, Val Accuracy: 0.1135\n",
            "Epoch 2/10, Train Loss: 2.3019, Val Loss: 2.2840, Val Accuracy: 0.1964\n",
            "Epoch 3/10, Train Loss: 1.9283, Val Loss: 1.4384, Val Accuracy: 0.5429\n",
            "Epoch 4/10, Train Loss: 1.0613, Val Loss: 0.6147, Val Accuracy: 0.8225\n",
            "Epoch 5/10, Train Loss: 0.6807, Val Loss: 0.4439, Val Accuracy: 0.8857\n",
            "Epoch 6/10, Train Loss: 0.5846, Val Loss: 0.4287, Val Accuracy: 0.8890\n",
            "Epoch 7/10, Train Loss: 0.5721, Val Loss: 0.4197, Val Accuracy: 0.8911\n",
            "Epoch 8/10, Train Loss: 0.5625, Val Loss: 0.4106, Val Accuracy: 0.8938\n",
            "Epoch 9/10, Train Loss: 0.5500, Val Loss: 0.4023, Val Accuracy: 0.8951\n",
            "Epoch 10/10, Train Loss: 0.5449, Val Loss: 0.3942, Val Accuracy: 0.8979\n",
            "\n",
            "Training with batch size: 512\n",
            "Training with activation function: ReLU\n",
            "Epoch 1/10, Train Loss: 1.0860, Val Loss: 0.2918, Val Accuracy: 0.9133\n",
            "Epoch 2/10, Train Loss: 0.3545, Val Loss: 0.1919, Val Accuracy: 0.9416\n",
            "Epoch 3/10, Train Loss: 0.2836, Val Loss: 0.1805, Val Accuracy: 0.9461\n",
            "Epoch 4/10, Train Loss: 0.2537, Val Loss: 0.1629, Val Accuracy: 0.9524\n",
            "Epoch 5/10, Train Loss: 0.2287, Val Loss: 0.1413, Val Accuracy: 0.9595\n",
            "Epoch 6/10, Train Loss: 0.1927, Val Loss: 0.1313, Val Accuracy: 0.9630\n",
            "Epoch 7/10, Train Loss: 0.1837, Val Loss: 0.1290, Val Accuracy: 0.9633\n",
            "Epoch 8/10, Train Loss: 0.1851, Val Loss: 0.1281, Val Accuracy: 0.9635\n",
            "Epoch 9/10, Train Loss: 0.1764, Val Loss: 0.1275, Val Accuracy: 0.9638\n",
            "Epoch 10/10, Train Loss: 0.1763, Val Loss: 0.1260, Val Accuracy: 0.9642\n",
            "Training with activation function: Tanh\n",
            "Epoch 1/10, Train Loss: 0.7870, Val Loss: 0.2811, Val Accuracy: 0.9202\n",
            "Epoch 2/10, Train Loss: 0.3192, Val Loss: 0.2115, Val Accuracy: 0.9385\n",
            "Epoch 3/10, Train Loss: 0.2706, Val Loss: 0.1846, Val Accuracy: 0.9468\n",
            "Epoch 4/10, Train Loss: 0.2464, Val Loss: 0.1677, Val Accuracy: 0.9507\n",
            "Epoch 5/10, Train Loss: 0.2184, Val Loss: 0.1548, Val Accuracy: 0.9528\n",
            "Epoch 6/10, Train Loss: 0.1946, Val Loss: 0.1416, Val Accuracy: 0.9589\n",
            "Epoch 7/10, Train Loss: 0.1922, Val Loss: 0.1399, Val Accuracy: 0.9589\n",
            "Epoch 8/10, Train Loss: 0.1879, Val Loss: 0.1393, Val Accuracy: 0.9590\n",
            "Epoch 9/10, Train Loss: 0.1842, Val Loss: 0.1380, Val Accuracy: 0.9593\n",
            "Epoch 10/10, Train Loss: 0.1831, Val Loss: 0.1369, Val Accuracy: 0.9604\n",
            "Training with activation function: Sigmoid\n",
            "Epoch 1/10, Train Loss: 2.3143, Val Loss: 2.3024, Val Accuracy: 0.1135\n",
            "Epoch 2/10, Train Loss: 2.3061, Val Loss: 2.3049, Val Accuracy: 0.1135\n",
            "Epoch 3/10, Train Loss: 2.3036, Val Loss: 2.2998, Val Accuracy: 0.1857\n",
            "Epoch 4/10, Train Loss: 2.2922, Val Loss: 2.2496, Val Accuracy: 0.1901\n",
            "Epoch 5/10, Train Loss: 1.9472, Val Loss: 1.6646, Val Accuracy: 0.3539\n",
            "Epoch 6/10, Train Loss: 1.7134, Val Loss: 1.6362, Val Accuracy: 0.3957\n",
            "Epoch 7/10, Train Loss: 1.6864, Val Loss: 1.6060, Val Accuracy: 0.4210\n",
            "Epoch 8/10, Train Loss: 1.6595, Val Loss: 1.5709, Val Accuracy: 0.4375\n",
            "Epoch 9/10, Train Loss: 1.6222, Val Loss: 1.5225, Val Accuracy: 0.4679\n",
            "Epoch 10/10, Train Loss: 1.5744, Val Loss: 1.4543, Val Accuracy: 0.4886\n"
          ]
        }
      ]
    },
    {
      "cell_type": "markdown",
      "metadata": {
        "id": "deqkrbxeQV6q"
      },
      "source": [
        "# Homework solution\n",
        "Make the following changes to the cells with the comment \"#For HW\""
      ]
    },
    {
      "cell_type": "code",
      "execution_count": null,
      "metadata": {
        "id": "5u8sxNOLQV6q"
      },
      "outputs": [],
      "source": [
        "#####################To modify the batch size##########################\n",
        "batch_size = 32 # 64, 128, 256, 512\n",
        "\n",
        "# The dataloader makes our dataset iterable\n",
        "train_dataloader = torch.utils.data.DataLoader(training_data, batch_size=batch_size)\n",
        "val_dataloader = torch.utils.data.DataLoader(validation_data, batch_size=batch_size)\n",
        "##############################################################################\n",
        "\n",
        "\n",
        "##########################To change the learning rate##########################\n",
        "optimizer = torch.optim.SGD(nonlinear_model.parameters(), lr=0.01) #modify the value of lr\n",
        "##############################################################################\n",
        "\n",
        "\n",
        "##########################To change activation##########################\n",
        "###### Go to https://pytorch.org/docs/main/nn.html#non-linear-activations-weighted-sum-nonlinearity for more activations ######\n",
        "class NonlinearClassifier(nn.Module):\n",
        "\n",
        "    def __init__(self):\n",
        "        super().__init__()\n",
        "        self.flatten = nn.Flatten()\n",
        "        self.layers_stack = nn.Sequential(\n",
        "            nn.Linear(28*28, 50),\n",
        "            nn.Sigmoid(), #nn.ReLU(),\n",
        "            nn.Dropout(0.2),\n",
        "            nn.Linear(50, 50),\n",
        "            nn.Tanh(), #nn.ReLU(),\n",
        "           # nn.Dropout(0.2),\n",
        "            nn.Linear(50, 50),\n",
        "            nn.ReLU(),\n",
        "           # nn.Dropout(0.2),\n",
        "            nn.Linear(50, 10)\n",
        "        )\n",
        "\n",
        "    def forward(self, x):\n",
        "        x = self.flatten(x)\n",
        "        x = self.layers_stack(x)\n",
        "\n",
        "        return x\n",
        "##############################################################################"
      ]
    },
    {
      "cell_type": "markdown",
      "metadata": {
        "id": "RqJVdyV4QV6q"
      },
      "source": [
        "Bonus question: A learning rate scheduler is an essential deep learning technique used to dynamically adjust the learning rate during training. This strategic can significantly impact the convergence speed and overall performance of a neural network.See below on how to incorporate it to your training."
      ]
    },
    {
      "cell_type": "code",
      "execution_count": null,
      "metadata": {
        "id": "zmLnPTgVQV6q"
      },
      "outputs": [],
      "source": [
        "nonlinear_model = NonlinearClassifier()\n",
        "loss_fn = nn.CrossEntropyLoss()\n",
        "optimizer = torch.optim.SGD(nonlinear_model.parameters(), lr=0.1)\n",
        "\n",
        "# Step learning rate scheduler: reduce by a factor of 0.1 every 2 epochs (only for illustrative purposes)\n",
        "scheduler = torch.optim.lr_scheduler.StepLR(optimizer, step_size=2, gamma=0.1)"
      ]
    },
    {
      "cell_type": "code",
      "execution_count": null,
      "metadata": {
        "colab": {
          "base_uri": "https://localhost:8080/"
        },
        "id": "GQCHr4WWQV6q",
        "outputId": "c7524045-08a3-4991-b39f-9274b18d8ea2"
      },
      "outputs": [
        {
          "output_type": "stream",
          "name": "stdout",
          "text": [
            "Epoch 1/6, Learning Rate: 0.1\n",
            "Epoch 0: training loss: 0.3844338706284761, accuracy: 89.18333333333334\n",
            "Epoch 0: val. loss: 0.37559208548069, val. accuracy: 88.99166666666667\n",
            "Epoch 2/6, Learning Rate: 0.010000000000000002\n",
            "Epoch 1: training loss: 0.25924819401775795, accuracy: 92.27083333333333\n",
            "Epoch 1: val. loss: 0.24773577891786894, val. accuracy: 92.40833333333333\n",
            "Epoch 3/6, Learning Rate: 0.010000000000000002\n",
            "Epoch 2: training loss: 0.2334515903306504, accuracy: 93.06666666666666\n",
            "Epoch 2: val. loss: 0.22442547981937727, val. accuracy: 93.31666666666666\n",
            "Epoch 4/6, Learning Rate: 0.0010000000000000002\n",
            "Epoch 3: training loss: 0.22680811562513312, accuracy: 93.26666666666667\n",
            "Epoch 3: val. loss: 0.2187306299805641, val. accuracy: 93.46666666666667\n",
            "Epoch 5/6, Learning Rate: 0.0010000000000000002\n",
            "Epoch 4: training loss: 0.22533051643520594, accuracy: 93.29583333333333\n",
            "Epoch 4: val. loss: 0.2172832323461771, val. accuracy: 93.53333333333333\n",
            "Epoch 6/6, Learning Rate: 0.00010000000000000003\n",
            "Epoch 5: training loss: 0.2247667946703732, accuracy: 93.32083333333333\n",
            "Epoch 5: val. loss: 0.21671729108691215, val. accuracy: 93.59166666666667\n",
            "CPU times: user 1min 49s, sys: 261 ms, total: 1min 49s\n",
            "Wall time: 1min 50s\n"
          ]
        }
      ],
      "source": [
        "%%time\n",
        "\n",
        "epochs = 6\n",
        "train_acc_all = []\n",
        "val_acc_all = []\n",
        "for j in range(epochs):\n",
        "    train_one_epoch(train_dataloader, nonlinear_model, loss_fn, optimizer)\n",
        "    #step the scheduler\n",
        "    scheduler.step()\n",
        "\n",
        "    # Print the current learning rate\n",
        "    current_lr = optimizer.param_groups[0]['lr']\n",
        "    print(f\"Epoch {j+1}/{epochs}, Learning Rate: {current_lr}\")\n",
        "\n",
        "    # checking on the training loss and accuracy once per epoch\n",
        "    acc, loss = evaluate(train_dataloader, nonlinear_model, loss_fn)\n",
        "    train_acc_all.append(acc)\n",
        "    print(f\"Epoch {j}: training loss: {loss}, accuracy: {acc}\")\n",
        "\n",
        "    # checking on the validation loss and accuracy once per epoch\n",
        "    val_acc, val_loss = evaluate(val_dataloader, nonlinear_model, loss_fn)\n",
        "    val_acc_all.append(val_acc)\n",
        "    print(f\"Epoch {j}: val. loss: {val_loss}, val. accuracy: {val_acc}\")"
      ]
    }
  ],
  "metadata": {
    "kernelspec": {
      "display_name": "Python 3 (ipykernel)",
      "language": "python",
      "name": "python3"
    },
    "language_info": {
      "codemirror_mode": {
        "name": "ipython",
        "version": 3
      },
      "file_extension": ".py",
      "mimetype": "text/x-python",
      "name": "python",
      "nbconvert_exporter": "python",
      "pygments_lexer": "ipython3",
      "version": "3.7.4"
    },
    "colab": {
      "provenance": []
    }
  },
  "nbformat": 4,
  "nbformat_minor": 0
}